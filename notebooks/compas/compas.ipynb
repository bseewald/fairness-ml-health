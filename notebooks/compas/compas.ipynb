{
 "cells": [
  {
   "cell_type": "code",
   "execution_count": 67,
   "metadata": {},
   "outputs": [],
   "source": [
    "import numpy as np\n",
    "import pandas as pd\n",
    "from tableone import TableOne\n",
    "from lifelines import CoxPHFitter, plotting, KaplanMeierFitter\n",
    "from sklearn.preprocessing import LabelEncoder\n",
    "\n",
    "import matplotlib.pyplot as plt\n",
    "import seaborn as sns"
   ]
  },
  {
   "cell_type": "code",
   "execution_count": 5,
   "metadata": {},
   "outputs": [],
   "source": [
    "plt.style.use('ggplot')\n",
    "\n",
    "plt.rcParams['font.sans-serif'] = 'Arial'\n",
    "plt.rcParams['font.family'] = 'sans-serif'\n",
    "plt.rcParams['text.color'] = '#505050'\n",
    "plt.rcParams['axes.labelcolor']= '#505050'\n",
    "plt.rcParams['xtick.color'] = '#505050'\n",
    "plt.rcParams['ytick.color'] = '#505050'\n",
    "plt.rcParams['font.size']= 11"
   ]
  },
  {
   "cell_type": "code",
   "execution_count": 16,
   "metadata": {},
   "outputs": [],
   "source": [
    "pd.set_option('max_columns', None)"
   ]
  },
  {
   "cell_type": "markdown",
   "metadata": {},
   "source": [
    "### COMPAS"
   ]
  },
  {
   "cell_type": "code",
   "execution_count": 127,
   "metadata": {},
   "outputs": [],
   "source": [
    "df_compas = pd.read_csv(\"cox-parsed.csv\")"
   ]
  },
  {
   "cell_type": "code",
   "execution_count": 128,
   "metadata": {
    "scrolled": true
   },
   "outputs": [
    {
     "data": {
      "text/html": [
       "<div>\n",
       "<style scoped>\n",
       "    .dataframe tbody tr th:only-of-type {\n",
       "        vertical-align: middle;\n",
       "    }\n",
       "\n",
       "    .dataframe tbody tr th {\n",
       "        vertical-align: top;\n",
       "    }\n",
       "\n",
       "    .dataframe thead th {\n",
       "        text-align: right;\n",
       "    }\n",
       "</style>\n",
       "<table border=\"1\" class=\"dataframe\">\n",
       "  <thead>\n",
       "    <tr style=\"text-align: right;\">\n",
       "      <th></th>\n",
       "      <th>id</th>\n",
       "      <th>name</th>\n",
       "      <th>first</th>\n",
       "      <th>last</th>\n",
       "      <th>compas_screening_date</th>\n",
       "      <th>sex</th>\n",
       "      <th>dob</th>\n",
       "      <th>age</th>\n",
       "      <th>age_cat</th>\n",
       "      <th>race</th>\n",
       "      <th>juv_fel_count</th>\n",
       "      <th>decile_score</th>\n",
       "      <th>juv_misd_count</th>\n",
       "      <th>juv_other_count</th>\n",
       "      <th>priors_count</th>\n",
       "      <th>days_b_screening_arrest</th>\n",
       "      <th>c_jail_in</th>\n",
       "      <th>c_jail_out</th>\n",
       "      <th>c_case_number</th>\n",
       "      <th>c_offense_date</th>\n",
       "      <th>c_arrest_date</th>\n",
       "      <th>c_days_from_compas</th>\n",
       "      <th>c_charge_degree</th>\n",
       "      <th>c_charge_desc</th>\n",
       "      <th>is_recid</th>\n",
       "      <th>r_case_number</th>\n",
       "      <th>r_charge_degree</th>\n",
       "      <th>r_days_from_arrest</th>\n",
       "      <th>r_offense_date</th>\n",
       "      <th>r_charge_desc</th>\n",
       "      <th>r_jail_in</th>\n",
       "      <th>r_jail_out</th>\n",
       "      <th>violent_recid</th>\n",
       "      <th>is_violent_recid</th>\n",
       "      <th>vr_case_number</th>\n",
       "      <th>vr_charge_degree</th>\n",
       "      <th>vr_offense_date</th>\n",
       "      <th>vr_charge_desc</th>\n",
       "      <th>type_of_assessment</th>\n",
       "      <th>decile_score.1</th>\n",
       "      <th>score_text</th>\n",
       "      <th>screening_date</th>\n",
       "      <th>v_type_of_assessment</th>\n",
       "      <th>v_decile_score</th>\n",
       "      <th>v_score_text</th>\n",
       "      <th>v_screening_date</th>\n",
       "      <th>in_custody</th>\n",
       "      <th>out_custody</th>\n",
       "      <th>priors_count.1</th>\n",
       "      <th>start</th>\n",
       "      <th>end</th>\n",
       "      <th>event</th>\n",
       "    </tr>\n",
       "  </thead>\n",
       "  <tbody>\n",
       "    <tr>\n",
       "      <th>0</th>\n",
       "      <td>1</td>\n",
       "      <td>miguel hernandez</td>\n",
       "      <td>miguel</td>\n",
       "      <td>hernandez</td>\n",
       "      <td>2013-08-14</td>\n",
       "      <td>Male</td>\n",
       "      <td>1947-04-18</td>\n",
       "      <td>69</td>\n",
       "      <td>Greater than 45</td>\n",
       "      <td>Other</td>\n",
       "      <td>0</td>\n",
       "      <td>1</td>\n",
       "      <td>0</td>\n",
       "      <td>0</td>\n",
       "      <td>0</td>\n",
       "      <td>-1.0</td>\n",
       "      <td>2013-08-13 06:03:42</td>\n",
       "      <td>2013-08-14 05:41:20</td>\n",
       "      <td>13011352CF10A</td>\n",
       "      <td>2013-08-13</td>\n",
       "      <td>NaN</td>\n",
       "      <td>1.0</td>\n",
       "      <td>(F3)</td>\n",
       "      <td>Aggravated Assault w/Firearm</td>\n",
       "      <td>0</td>\n",
       "      <td>NaN</td>\n",
       "      <td>NaN</td>\n",
       "      <td>NaN</td>\n",
       "      <td>NaN</td>\n",
       "      <td>NaN</td>\n",
       "      <td>NaN</td>\n",
       "      <td>NaN</td>\n",
       "      <td>NaN</td>\n",
       "      <td>0</td>\n",
       "      <td>NaN</td>\n",
       "      <td>NaN</td>\n",
       "      <td>NaN</td>\n",
       "      <td>NaN</td>\n",
       "      <td>Risk of Recidivism</td>\n",
       "      <td>1</td>\n",
       "      <td>Low</td>\n",
       "      <td>2013-08-14</td>\n",
       "      <td>Risk of Violence</td>\n",
       "      <td>1</td>\n",
       "      <td>Low</td>\n",
       "      <td>2013-08-14</td>\n",
       "      <td>2014-07-07</td>\n",
       "      <td>2014-07-14</td>\n",
       "      <td>0</td>\n",
       "      <td>0</td>\n",
       "      <td>327</td>\n",
       "      <td>0</td>\n",
       "    </tr>\n",
       "    <tr>\n",
       "      <th>1</th>\n",
       "      <td>1</td>\n",
       "      <td>miguel hernandez</td>\n",
       "      <td>miguel</td>\n",
       "      <td>hernandez</td>\n",
       "      <td>2013-08-14</td>\n",
       "      <td>Male</td>\n",
       "      <td>1947-04-18</td>\n",
       "      <td>69</td>\n",
       "      <td>Greater than 45</td>\n",
       "      <td>Other</td>\n",
       "      <td>0</td>\n",
       "      <td>1</td>\n",
       "      <td>0</td>\n",
       "      <td>0</td>\n",
       "      <td>0</td>\n",
       "      <td>-1.0</td>\n",
       "      <td>2013-08-13 06:03:42</td>\n",
       "      <td>2013-08-14 05:41:20</td>\n",
       "      <td>13011352CF10A</td>\n",
       "      <td>2013-08-13</td>\n",
       "      <td>NaN</td>\n",
       "      <td>1.0</td>\n",
       "      <td>(F3)</td>\n",
       "      <td>Aggravated Assault w/Firearm</td>\n",
       "      <td>0</td>\n",
       "      <td>NaN</td>\n",
       "      <td>NaN</td>\n",
       "      <td>NaN</td>\n",
       "      <td>NaN</td>\n",
       "      <td>NaN</td>\n",
       "      <td>NaN</td>\n",
       "      <td>NaN</td>\n",
       "      <td>NaN</td>\n",
       "      <td>0</td>\n",
       "      <td>NaN</td>\n",
       "      <td>NaN</td>\n",
       "      <td>NaN</td>\n",
       "      <td>NaN</td>\n",
       "      <td>Risk of Recidivism</td>\n",
       "      <td>1</td>\n",
       "      <td>Low</td>\n",
       "      <td>2013-08-14</td>\n",
       "      <td>Risk of Violence</td>\n",
       "      <td>1</td>\n",
       "      <td>Low</td>\n",
       "      <td>2013-08-14</td>\n",
       "      <td>2014-07-07</td>\n",
       "      <td>2014-07-14</td>\n",
       "      <td>0</td>\n",
       "      <td>334</td>\n",
       "      <td>961</td>\n",
       "      <td>0</td>\n",
       "    </tr>\n",
       "  </tbody>\n",
       "</table>\n",
       "</div>"
      ],
      "text/plain": [
       "   id              name   first       last compas_screening_date   sex  \\\n",
       "0   1  miguel hernandez  miguel  hernandez            2013-08-14  Male   \n",
       "1   1  miguel hernandez  miguel  hernandez            2013-08-14  Male   \n",
       "\n",
       "          dob  age          age_cat   race  juv_fel_count  decile_score  \\\n",
       "0  1947-04-18   69  Greater than 45  Other              0             1   \n",
       "1  1947-04-18   69  Greater than 45  Other              0             1   \n",
       "\n",
       "   juv_misd_count  juv_other_count  priors_count  days_b_screening_arrest  \\\n",
       "0               0                0             0                     -1.0   \n",
       "1               0                0             0                     -1.0   \n",
       "\n",
       "             c_jail_in           c_jail_out  c_case_number c_offense_date  \\\n",
       "0  2013-08-13 06:03:42  2013-08-14 05:41:20  13011352CF10A     2013-08-13   \n",
       "1  2013-08-13 06:03:42  2013-08-14 05:41:20  13011352CF10A     2013-08-13   \n",
       "\n",
       "  c_arrest_date  c_days_from_compas c_charge_degree  \\\n",
       "0           NaN                 1.0            (F3)   \n",
       "1           NaN                 1.0            (F3)   \n",
       "\n",
       "                  c_charge_desc  is_recid r_case_number r_charge_degree  \\\n",
       "0  Aggravated Assault w/Firearm         0           NaN             NaN   \n",
       "1  Aggravated Assault w/Firearm         0           NaN             NaN   \n",
       "\n",
       "   r_days_from_arrest r_offense_date r_charge_desc r_jail_in r_jail_out  \\\n",
       "0                 NaN            NaN           NaN       NaN        NaN   \n",
       "1                 NaN            NaN           NaN       NaN        NaN   \n",
       "\n",
       "   violent_recid  is_violent_recid vr_case_number vr_charge_degree  \\\n",
       "0            NaN                 0            NaN              NaN   \n",
       "1            NaN                 0            NaN              NaN   \n",
       "\n",
       "  vr_offense_date vr_charge_desc  type_of_assessment  decile_score.1  \\\n",
       "0             NaN            NaN  Risk of Recidivism               1   \n",
       "1             NaN            NaN  Risk of Recidivism               1   \n",
       "\n",
       "  score_text screening_date v_type_of_assessment  v_decile_score v_score_text  \\\n",
       "0        Low     2013-08-14     Risk of Violence               1          Low   \n",
       "1        Low     2013-08-14     Risk of Violence               1          Low   \n",
       "\n",
       "  v_screening_date  in_custody out_custody  priors_count.1  start  end  event  \n",
       "0       2013-08-14  2014-07-07  2014-07-14               0      0  327      0  \n",
       "1       2013-08-14  2014-07-07  2014-07-14               0    334  961      0  "
      ]
     },
     "execution_count": 128,
     "metadata": {},
     "output_type": "execute_result"
    }
   ],
   "source": [
    "df_compas.head(2)"
   ]
  },
  {
   "cell_type": "code",
   "execution_count": 129,
   "metadata": {},
   "outputs": [
    {
     "data": {
      "text/plain": [
       "(13419, 52)"
      ]
     },
     "execution_count": 129,
     "metadata": {},
     "output_type": "execute_result"
    }
   ],
   "source": [
    "df_compas.shape"
   ]
  },
  {
   "cell_type": "code",
   "execution_count": 130,
   "metadata": {},
   "outputs": [],
   "source": [
    "df_compas_orig = df_compas.copy()"
   ]
  },
  {
   "cell_type": "code",
   "execution_count": 131,
   "metadata": {},
   "outputs": [],
   "source": [
    "df_compas = df_compas.loc[df_compas.end > df_compas.start]"
   ]
  },
  {
   "cell_type": "code",
   "execution_count": 132,
   "metadata": {},
   "outputs": [],
   "source": [
    "df_compas = df_compas.loc[df_compas.score_text.notnull()]"
   ]
  },
  {
   "cell_type": "code",
   "execution_count": 133,
   "metadata": {},
   "outputs": [],
   "source": [
    "df_compas.drop_duplicates(subset=[\"id\"], inplace=True)"
   ]
  },
  {
   "cell_type": "code",
   "execution_count": 134,
   "metadata": {},
   "outputs": [
    {
     "data": {
      "text/plain": [
       "(10314, 52)"
      ]
     },
     "execution_count": 134,
     "metadata": {},
     "output_type": "execute_result"
    }
   ],
   "source": [
    "df_compas.shape"
   ]
  },
  {
   "cell_type": "code",
   "execution_count": 135,
   "metadata": {},
   "outputs": [
    {
     "name": "stdout",
     "output_type": "stream",
     "text": [
      "<class 'pandas.core.frame.DataFrame'>\n",
      "Int64Index: 10314 entries, 0 to 13417\n",
      "Data columns (total 52 columns):\n",
      " #   Column                   Non-Null Count  Dtype  \n",
      "---  ------                   --------------  -----  \n",
      " 0   id                       10314 non-null  int64  \n",
      " 1   name                     10314 non-null  object \n",
      " 2   first                    10314 non-null  object \n",
      " 3   last                     10314 non-null  object \n",
      " 4   compas_screening_date    10314 non-null  object \n",
      " 5   sex                      10314 non-null  object \n",
      " 6   dob                      10314 non-null  object \n",
      " 7   age                      10314 non-null  int64  \n",
      " 8   age_cat                  10314 non-null  object \n",
      " 9   race                     10314 non-null  object \n",
      " 10  juv_fel_count            10314 non-null  int64  \n",
      " 11  decile_score             10314 non-null  int64  \n",
      " 12  juv_misd_count           10314 non-null  int64  \n",
      " 13  juv_other_count          10314 non-null  int64  \n",
      " 14  priors_count             10314 non-null  int64  \n",
      " 15  days_b_screening_arrest  9887 non-null   float64\n",
      " 16  c_jail_in                9887 non-null   object \n",
      " 17  c_jail_out               9887 non-null   object \n",
      " 18  c_case_number            10291 non-null  object \n",
      " 19  c_offense_date           8564 non-null   object \n",
      " 20  c_arrest_date            1727 non-null   object \n",
      " 21  c_days_from_compas       10291 non-null  float64\n",
      " 22  c_charge_degree          10291 non-null  object \n",
      " 23  c_charge_desc            10284 non-null  object \n",
      " 24  is_recid                 10314 non-null  int64  \n",
      " 25  r_case_number            3466 non-null   object \n",
      " 26  r_charge_degree          3466 non-null   object \n",
      " 27  r_days_from_arrest       2311 non-null   float64\n",
      " 28  r_offense_date           3466 non-null   object \n",
      " 29  r_charge_desc            3408 non-null   object \n",
      " 30  r_jail_in                2311 non-null   object \n",
      " 31  r_jail_out               2311 non-null   object \n",
      " 32  violent_recid            0 non-null      float64\n",
      " 33  is_violent_recid         10314 non-null  int64  \n",
      " 34  vr_case_number           818 non-null    object \n",
      " 35  vr_charge_degree         818 non-null    object \n",
      " 36  vr_offense_date          818 non-null    object \n",
      " 37  vr_charge_desc           818 non-null    object \n",
      " 38  type_of_assessment       10314 non-null  object \n",
      " 39  decile_score.1           10314 non-null  int64  \n",
      " 40  score_text               10314 non-null  object \n",
      " 41  screening_date           10314 non-null  object \n",
      " 42  v_type_of_assessment     10314 non-null  object \n",
      " 43  v_decile_score           10314 non-null  int64  \n",
      " 44  v_score_text             10314 non-null  object \n",
      " 45  v_screening_date         10314 non-null  object \n",
      " 46  in_custody               9990 non-null   object \n",
      " 47  out_custody              9990 non-null   object \n",
      " 48  priors_count.1           10314 non-null  int64  \n",
      " 49  start                    10314 non-null  int64  \n",
      " 50  end                      10314 non-null  int64  \n",
      " 51  event                    10314 non-null  int64  \n",
      "dtypes: float64(4), int64(15), object(33)\n",
      "memory usage: 4.2+ MB\n"
     ]
    }
   ],
   "source": [
    "df_compas.info()"
   ]
  },
  {
   "cell_type": "markdown",
   "metadata": {},
   "source": [
    "#### EDA"
   ]
  },
  {
   "cell_type": "code",
   "execution_count": 136,
   "metadata": {},
   "outputs": [],
   "source": [
    "df_compas[\"duration\"] = df_compas[\"end\"] - df_compas[\"start\"]"
   ]
  },
  {
   "cell_type": "code",
   "execution_count": 172,
   "metadata": {},
   "outputs": [],
   "source": [
    "df_compas.loc[df_compas.score_text == 'Low', \"score_factor\"] = 0\n",
    "df_compas.loc[df_compas.score_text == 'Medium', \"score_factor\"] = 1\n",
    "df_compas.loc[df_compas.score_text == 'High', \"score_factor\"] = 2"
   ]
  },
  {
   "cell_type": "code",
   "execution_count": 138,
   "metadata": {},
   "outputs": [
    {
     "data": {
      "text/plain": [
       "[]"
      ]
     },
     "execution_count": 138,
     "metadata": {},
     "output_type": "execute_result"
    },
    {
     "data": {
      "image/png": "[encoded data removed]",
      "text/plain": [
       "<Figure size 432x288 with 1 Axes>"
      ]
     },
     "metadata": {},
     "output_type": "display_data"
    }
   ],
   "source": [
    "# Plotting only n individuals\n",
    "df = df_compas.sample(n=25, random_state=0)\n",
    "\n",
    "durations = df.duration.values\n",
    "events = df.event.values\n",
    "\n",
    "ax = plotting.plot_lifetimes(durations=durations, event_observed=events)\n",
    "ax.set_xlim(0, 1186)\n",
    "ax.vlines(1186, 0, 25, lw=2, linestyles='--')\n",
    "ax.grid(axis='x')\n",
    "ax.set_xlabel(\"Tempo em dias\")\n",
    "ax.set_title(\"Reincidência\")\n",
    "plt.plot()"
   ]
  },
  {
   "cell_type": "code",
   "execution_count": 139,
   "metadata": {},
   "outputs": [
    {
     "data": {
      "text/html": [
       "<div>\n",
       "<style scoped>\n",
       "    .dataframe tbody tr th:only-of-type {\n",
       "        vertical-align: middle;\n",
       "    }\n",
       "\n",
       "    .dataframe tbody tr th {\n",
       "        vertical-align: top;\n",
       "    }\n",
       "\n",
       "    .dataframe thead tr th {\n",
       "        text-align: left;\n",
       "    }\n",
       "</style>\n",
       "<table border=\"1\" class=\"dataframe\">\n",
       "  <thead>\n",
       "    <tr>\n",
       "      <th></th>\n",
       "      <th></th>\n",
       "      <th colspan=\"7\" halign=\"left\">Grouped by race</th>\n",
       "    </tr>\n",
       "    <tr>\n",
       "      <th></th>\n",
       "      <th></th>\n",
       "      <th>Overall</th>\n",
       "      <th>African-American</th>\n",
       "      <th>Asian</th>\n",
       "      <th>Caucasian</th>\n",
       "      <th>Hispanic</th>\n",
       "      <th>Native American</th>\n",
       "      <th>Other</th>\n",
       "    </tr>\n",
       "  </thead>\n",
       "  <tbody>\n",
       "    <tr>\n",
       "      <th>n</th>\n",
       "      <th></th>\n",
       "      <td>10314</td>\n",
       "      <td>5147</td>\n",
       "      <td>51</td>\n",
       "      <td>3569</td>\n",
       "      <td>944</td>\n",
       "      <td>32</td>\n",
       "      <td>571</td>\n",
       "    </tr>\n",
       "    <tr>\n",
       "      <th rowspan=\"2\" valign=\"top\">sex, n (%)</th>\n",
       "      <th>Female</th>\n",
       "      <td>2112 (20.5)</td>\n",
       "      <td>973 (18.9)</td>\n",
       "      <td>5 (9.8)</td>\n",
       "      <td>862 (24.2)</td>\n",
       "      <td>158 (16.7)</td>\n",
       "      <td>7 (21.9)</td>\n",
       "      <td>107 (18.7)</td>\n",
       "    </tr>\n",
       "    <tr>\n",
       "      <th>Male</th>\n",
       "      <td>8202 (79.5)</td>\n",
       "      <td>4174 (81.1)</td>\n",
       "      <td>46 (90.2)</td>\n",
       "      <td>2707 (75.8)</td>\n",
       "      <td>786 (83.3)</td>\n",
       "      <td>25 (78.1)</td>\n",
       "      <td>464 (81.3)</td>\n",
       "    </tr>\n",
       "    <tr>\n",
       "      <th rowspan=\"3\" valign=\"top\">score_text, n (%)</th>\n",
       "      <th>High</th>\n",
       "      <td>1952 (18.9)</td>\n",
       "      <td>1420 (27.6)</td>\n",
       "      <td>4 (7.8)</td>\n",
       "      <td>397 (11.1)</td>\n",
       "      <td>92 (9.7)</td>\n",
       "      <td>7 (21.9)</td>\n",
       "      <td>32 (5.6)</td>\n",
       "    </tr>\n",
       "    <tr>\n",
       "      <th>Low</th>\n",
       "      <td>5751 (55.8)</td>\n",
       "      <td>2184 (42.4)</td>\n",
       "      <td>38 (74.5)</td>\n",
       "      <td>2372 (66.5)</td>\n",
       "      <td>684 (72.5)</td>\n",
       "      <td>16 (50.0)</td>\n",
       "      <td>457 (80.0)</td>\n",
       "    </tr>\n",
       "    <tr>\n",
       "      <th>Medium</th>\n",
       "      <td>2611 (25.3)</td>\n",
       "      <td>1543 (30.0)</td>\n",
       "      <td>9 (17.6)</td>\n",
       "      <td>800 (22.4)</td>\n",
       "      <td>168 (17.8)</td>\n",
       "      <td>9 (28.1)</td>\n",
       "      <td>82 (14.4)</td>\n",
       "    </tr>\n",
       "  </tbody>\n",
       "</table>\n",
       "</div><br />"
      ],
      "text/plain": [
       "                         Grouped by race                                                                                 \n",
       "                                 Overall African-American      Asian    Caucasian    Hispanic Native American       Other\n",
       "n                                  10314             5147         51         3569         944              32         571\n",
       "sex, n (%)        Female     2112 (20.5)       973 (18.9)    5 (9.8)   862 (24.2)  158 (16.7)        7 (21.9)  107 (18.7)\n",
       "                  Male       8202 (79.5)      4174 (81.1)  46 (90.2)  2707 (75.8)  786 (83.3)       25 (78.1)  464 (81.3)\n",
       "score_text, n (%) High       1952 (18.9)      1420 (27.6)    4 (7.8)   397 (11.1)    92 (9.7)        7 (21.9)    32 (5.6)\n",
       "                  Low        5751 (55.8)      2184 (42.4)  38 (74.5)  2372 (66.5)  684 (72.5)       16 (50.0)  457 (80.0)\n",
       "                  Medium     2611 (25.3)      1543 (30.0)   9 (17.6)   800 (22.4)  168 (17.8)        9 (28.1)   82 (14.4)"
      ]
     },
     "execution_count": 139,
     "metadata": {},
     "output_type": "execute_result"
    }
   ],
   "source": [
    "# Table One\n",
    "columns = [\"sex\", \"score_text\"]\n",
    "groupby = ['race']\n",
    "nonnormal = [\"age\"]\n",
    "\n",
    "# create an instance of TableOne with the input arguments\n",
    "grouped_table = TableOne(df_compas, columns=columns, groupby=groupby, \n",
    "                         nonnormal=nonnormal, missing=False,\n",
    "                         dip_test=True, normal_test=True, tukey_test=True)\n",
    "\n",
    "# view tableone\n",
    "grouped_table"
   ]
  },
  {
   "cell_type": "code",
   "execution_count": 140,
   "metadata": {},
   "outputs": [
    {
     "data": {
      "text/plain": [
       "Text(0.5, 1.0, 'Distribuição de idade')"
      ]
     },
     "execution_count": 140,
     "metadata": {},
     "output_type": "execute_result"
    },
    {
     "data": {
      "image/png": "[encoded data removed]",
      "text/plain": [
       "<Figure size 432x288 with 1 Axes>"
      ]
     },
     "metadata": {},
     "output_type": "display_data"
    }
   ],
   "source": [
    "# Age distribution\n",
    "ax = df_compas.pivot(columns='race').age.plot(kind = 'hist', stacked=True, bins=25, rwidth=0.8)\n",
    "# ax.legend(labels=['outros', 'negros'])\n",
    "plt.xlabel('Idade')\n",
    "plt.ylabel('Quantidade')\n",
    "plt.title('Distribuição de idade')"
   ]
  },
  {
   "cell_type": "code",
   "execution_count": 141,
   "metadata": {},
   "outputs": [
    {
     "data": {
      "text/plain": [
       "Text(0.5, 1.0, 'Distribuição de prisões anteriores')"
      ]
     },
     "execution_count": 141,
     "metadata": {},
     "output_type": "execute_result"
    },
    {
     "data": {
      "image/png": "[encoded data removed]",
      "text/plain": [
       "<Figure size 432x288 with 1 Axes>"
      ]
     },
     "metadata": {},
     "output_type": "display_data"
    }
   ],
   "source": [
    "# prior arrest distribution\n",
    "ax = df_compas.pivot(columns='race').priors_count.plot(kind = 'hist', stacked=True, bins=18, rwidth=0.8)\n",
    "plt.xlabel('Prisões anteriores')\n",
    "plt.ylabel('Quantidade')\n",
    "plt.title('Distribuição de prisões anteriores')"
   ]
  },
  {
   "cell_type": "code",
   "execution_count": 173,
   "metadata": {},
   "outputs": [
    {
     "data": {
      "text/plain": [
       "Text(0.5, 1.0, 'Distribuição')"
      ]
     },
     "execution_count": 173,
     "metadata": {},
     "output_type": "execute_result"
    },
    {
     "data": {
      "image/png": "[encoded data removed]",
      "text/plain": [
       "<Figure size 432x288 with 1 Axes>"
      ]
     },
     "metadata": {},
     "output_type": "display_data"
    }
   ],
   "source": [
    "# Classificacao COMPAS de risco\n",
    "ax = df_compas.pivot(columns='race').score_factor.plot(kind = 'hist', stacked=True, bins=5, rwidth=0.8)\n",
    "plt.xlabel('Compas score')\n",
    "plt.ylabel('Quantidade')\n",
    "plt.title('Distribuição')"
   ]
  },
  {
   "cell_type": "markdown",
   "metadata": {},
   "source": [
    "#### Kaplan Meier"
   ]
  },
  {
   "cell_type": "code",
   "execution_count": 174,
   "metadata": {},
   "outputs": [],
   "source": [
    "T = df_compas[\"duration\"]\n",
    "E = df_compas[\"event\"]"
   ]
  },
  {
   "cell_type": "code",
   "execution_count": 175,
   "metadata": {},
   "outputs": [
    {
     "data": {
      "image/png": "[encoded data removed]",
      "text/plain": [
       "<Figure size 432x288 with 1 Axes>"
      ]
     },
     "metadata": {},
     "output_type": "display_data"
    }
   ],
   "source": [
    "ax = plt.subplot(111)\n",
    "\n",
    "dem_afam = (df_compas[\"race\"] == \"African-American\")\n",
    "dem_cau = (df_compas[\"race\"] == \"Caucasian\")\n",
    "\n",
    "kmf.fit(T[dem_afam], event_observed=E[dem_afam], label=\"African-American\")\n",
    "kmf.plot_survival_function(ax=ax)\n",
    "\n",
    "kmf.fit(T[dem_cau], event_observed=E[dem_cau], label=\"Caucasian\")\n",
    "kmf.plot_survival_function(ax=ax)\n",
    "\n",
    "plt.title(\"Lifespans of different races\");"
   ]
  },
  {
   "cell_type": "markdown",
   "metadata": {},
   "source": [
    "#### Cox"
   ]
  },
  {
   "cell_type": "code",
   "execution_count": 160,
   "metadata": {},
   "outputs": [],
   "source": [
    "df_compas[\"score_text\"] = df_compas[\"score_text\"].astype(\"category\") \n",
    "df_compas[\"race\"] = df_compas[\"race\"].astype(\"category\") "
   ]
  },
  {
   "cell_type": "code",
   "execution_count": 156,
   "metadata": {},
   "outputs": [
    {
     "data": {
      "text/plain": [
       "<lifelines.CoxPHFitter: fitted with 10314 total observations, 7555 right-censored observations>"
      ]
     },
     "execution_count": 156,
     "metadata": {},
     "output_type": "execute_result"
    }
   ],
   "source": [
    "cph = CoxPHFitter()\n",
    "formula = \"score_text\"\n",
    "cph.fit(df_compas, duration_col='duration', event_col='event', formula=formula)"
   ]
  },
  {
   "cell_type": "code",
   "execution_count": 157,
   "metadata": {},
   "outputs": [
    {
     "data": {
      "text/html": [
       "<div>\n",
       "<style scoped>\n",
       "    .dataframe tbody tr th:only-of-type {\n",
       "        vertical-align: middle;\n",
       "    }\n",
       "\n",
       "    .dataframe tbody tr th {\n",
       "        vertical-align: top;\n",
       "    }\n",
       "\n",
       "    .dataframe thead th {\n",
       "        text-align: right;\n",
       "    }\n",
       "</style>\n",
       "<table border=\"1\" class=\"dataframe\">\n",
       "  <tbody>\n",
       "    <tr>\n",
       "      <th>model</th>\n",
       "      <td>lifelines.CoxPHFitter</td>\n",
       "    </tr>\n",
       "    <tr>\n",
       "      <th>duration col</th>\n",
       "      <td>'duration'</td>\n",
       "    </tr>\n",
       "    <tr>\n",
       "      <th>event col</th>\n",
       "      <td>'event'</td>\n",
       "    </tr>\n",
       "    <tr>\n",
       "      <th>baseline estimation</th>\n",
       "      <td>breslow</td>\n",
       "    </tr>\n",
       "    <tr>\n",
       "      <th>number of observations</th>\n",
       "      <td>10314</td>\n",
       "    </tr>\n",
       "    <tr>\n",
       "      <th>number of events observed</th>\n",
       "      <td>2759</td>\n",
       "    </tr>\n",
       "    <tr>\n",
       "      <th>partial log-likelihood</th>\n",
       "      <td>-24097.25</td>\n",
       "    </tr>\n",
       "    <tr>\n",
       "      <th>time fit was run</th>\n",
       "      <td>2021-09-20 02:24:22 UTC</td>\n",
       "    </tr>\n",
       "  </tbody>\n",
       "</table>\n",
       "</div><table border=\"1\" class=\"dataframe\">\n",
       "  <thead>\n",
       "    <tr style=\"text-align: right;\">\n",
       "      <th style=\"min-width: 12px;\"></th>\n",
       "      <th style=\"min-width: 12px;\">coef</th>\n",
       "      <th style=\"min-width: 12px;\">exp(coef)</th>\n",
       "      <th style=\"min-width: 12px;\">se(coef)</th>\n",
       "      <th style=\"min-width: 12px;\">coef lower 95%</th>\n",
       "      <th style=\"min-width: 12px;\">coef upper 95%</th>\n",
       "      <th style=\"min-width: 12px;\">exp(coef) lower 95%</th>\n",
       "      <th style=\"min-width: 12px;\">exp(coef) upper 95%</th>\n",
       "      <th style=\"min-width: 12px;\">z</th>\n",
       "      <th style=\"min-width: 12px;\">p</th>\n",
       "      <th style=\"min-width: 12px;\">-log2(p)</th>\n",
       "    </tr>\n",
       "  </thead>\n",
       "  <tbody>\n",
       "    <tr>\n",
       "      <th>score_text[T.Low]</th>\n",
       "      <td>-1.19</td>\n",
       "      <td>0.30</td>\n",
       "      <td>0.05</td>\n",
       "      <td>-1.29</td>\n",
       "      <td>-1.10</td>\n",
       "      <td>0.28</td>\n",
       "      <td>0.33</td>\n",
       "      <td>-25.26</td>\n",
       "      <td>&lt;0.005</td>\n",
       "      <td>465.13</td>\n",
       "    </tr>\n",
       "    <tr>\n",
       "      <th>score_text[T.Medium]</th>\n",
       "      <td>-0.41</td>\n",
       "      <td>0.67</td>\n",
       "      <td>0.05</td>\n",
       "      <td>-0.50</td>\n",
       "      <td>-0.31</td>\n",
       "      <td>0.60</td>\n",
       "      <td>0.73</td>\n",
       "      <td>-8.21</td>\n",
       "      <td>&lt;0.005</td>\n",
       "      <td>51.97</td>\n",
       "    </tr>\n",
       "  </tbody>\n",
       "</table><br><div>\n",
       "<style scoped>\n",
       "    .dataframe tbody tr th:only-of-type {\n",
       "        vertical-align: middle;\n",
       "    }\n",
       "\n",
       "    .dataframe tbody tr th {\n",
       "        vertical-align: top;\n",
       "    }\n",
       "\n",
       "    .dataframe thead th {\n",
       "        text-align: right;\n",
       "    }\n",
       "</style>\n",
       "<table border=\"1\" class=\"dataframe\">\n",
       "  <tbody>\n",
       "    <tr>\n",
       "      <th>Concordance</th>\n",
       "      <td>0.63</td>\n",
       "    </tr>\n",
       "    <tr>\n",
       "      <th>Partial AIC</th>\n",
       "      <td>48198.51</td>\n",
       "    </tr>\n",
       "    <tr>\n",
       "      <th>log-likelihood ratio test</th>\n",
       "      <td>681.06 on 2 df</td>\n",
       "    </tr>\n",
       "    <tr>\n",
       "      <th>-log2(p) of ll-ratio test</th>\n",
       "      <td>491.28</td>\n",
       "    </tr>\n",
       "  </tbody>\n",
       "</table>\n",
       "</div>"
      ],
      "text/latex": [
       "\\begin{tabular}{lrrrrrrrrrr}\n",
       "\\toprule\n",
       "{} &  coef &  exp(coef) &  se(coef) &  coef lower 95\\% &  coef upper 95\\% &  exp(coef) lower 95\\% &  exp(coef) upper 95\\% &      z &    p &  -log2(p) \\\\\n",
       "covariate            &       &            &           &                 &                 &                      &                      &        &      &           \\\\\n",
       "\\midrule\n",
       "score\\_text[T.Low]    & -1.19 &       0.30 &      0.05 &           -1.29 &           -1.10 &                 0.28 &                 0.33 & -25.26 & 0.00 &    465.13 \\\\\n",
       "score\\_text[T.Medium] & -0.41 &       0.67 &      0.05 &           -0.50 &           -0.31 &                 0.60 &                 0.73 &  -8.21 & 0.00 &     51.97 \\\\\n",
       "\\bottomrule\n",
       "\\end{tabular}\n"
      ],
      "text/plain": [
       "<lifelines.CoxPHFitter: fitted with 10314 total observations, 7555 right-censored observations>\n",
       "             duration col = 'duration'\n",
       "                event col = 'event'\n",
       "      baseline estimation = breslow\n",
       "   number of observations = 10314\n",
       "number of events observed = 2759\n",
       "   partial log-likelihood = -24097.25\n",
       "         time fit was run = 2021-09-20 02:24:22 UTC\n",
       "\n",
       "---\n",
       "                       coef  exp(coef)   se(coef)   coef lower 95%   coef upper 95%  exp(coef) lower 95%  exp(coef) upper 95%\n",
       "covariate                                                                                                                    \n",
       "score_text[T.Low]     -1.19       0.30       0.05            -1.29            -1.10                 0.28                 0.33\n",
       "score_text[T.Medium]  -0.41       0.67       0.05            -0.50            -0.31                 0.60                 0.73\n",
       "\n",
       "                          z      p   -log2(p)\n",
       "covariate                                    \n",
       "score_text[T.Low]    -25.26 <0.005     465.13\n",
       "score_text[T.Medium]  -8.21 <0.005      51.97\n",
       "---\n",
       "Concordance = 0.63\n",
       "Partial AIC = 48198.51\n",
       "log-likelihood ratio test = 681.06 on 2 df\n",
       "-log2(p) of ll-ratio test = 491.28"
      ]
     },
     "metadata": {},
     "output_type": "display_data"
    }
   ],
   "source": [
    "cph.print_summary()"
   ]
  },
  {
   "cell_type": "code",
   "execution_count": 120,
   "metadata": {},
   "outputs": [
    {
     "name": "stdout",
     "output_type": "stream",
     "text": [
      "Proportional hazard assumption looks okay.\n"
     ]
    },
    {
     "data": {
      "text/plain": [
       "[]"
      ]
     },
     "execution_count": 120,
     "metadata": {},
     "output_type": "execute_result"
    }
   ],
   "source": [
    "cph.check_assumptions(df_compas)"
   ]
  },
  {
   "cell_type": "code",
   "execution_count": 121,
   "metadata": {},
   "outputs": [
    {
     "data": {
      "text/plain": [
       "<lifelines.CoxPHFitter: fitted with 10314 total observations, 7555 right-censored observations>"
      ]
     },
     "execution_count": 121,
     "metadata": {},
     "output_type": "execute_result"
    }
   ],
   "source": [
    "formula=\"decile_score\"\n",
    "cph.fit(df_compas, duration_col='duration', event_col='event', formula=formula)"
   ]
  },
  {
   "cell_type": "code",
   "execution_count": 122,
   "metadata": {},
   "outputs": [
    {
     "data": {
      "text/html": [
       "<div>\n",
       "<style scoped>\n",
       "    .dataframe tbody tr th:only-of-type {\n",
       "        vertical-align: middle;\n",
       "    }\n",
       "\n",
       "    .dataframe tbody tr th {\n",
       "        vertical-align: top;\n",
       "    }\n",
       "\n",
       "    .dataframe thead th {\n",
       "        text-align: right;\n",
       "    }\n",
       "</style>\n",
       "<table border=\"1\" class=\"dataframe\">\n",
       "  <tbody>\n",
       "    <tr>\n",
       "      <th>model</th>\n",
       "      <td>lifelines.CoxPHFitter</td>\n",
       "    </tr>\n",
       "    <tr>\n",
       "      <th>duration col</th>\n",
       "      <td>'duration'</td>\n",
       "    </tr>\n",
       "    <tr>\n",
       "      <th>event col</th>\n",
       "      <td>'event'</td>\n",
       "    </tr>\n",
       "    <tr>\n",
       "      <th>baseline estimation</th>\n",
       "      <td>breslow</td>\n",
       "    </tr>\n",
       "    <tr>\n",
       "      <th>number of observations</th>\n",
       "      <td>10314</td>\n",
       "    </tr>\n",
       "    <tr>\n",
       "      <th>number of events observed</th>\n",
       "      <td>2759</td>\n",
       "    </tr>\n",
       "    <tr>\n",
       "      <th>partial log-likelihood</th>\n",
       "      <td>-24035.89</td>\n",
       "    </tr>\n",
       "    <tr>\n",
       "      <th>time fit was run</th>\n",
       "      <td>2021-09-20 02:04:48 UTC</td>\n",
       "    </tr>\n",
       "  </tbody>\n",
       "</table>\n",
       "</div><table border=\"1\" class=\"dataframe\">\n",
       "  <thead>\n",
       "    <tr style=\"text-align: right;\">\n",
       "      <th style=\"min-width: 12px;\"></th>\n",
       "      <th style=\"min-width: 12px;\">coef</th>\n",
       "      <th style=\"min-width: 12px;\">exp(coef)</th>\n",
       "      <th style=\"min-width: 12px;\">se(coef)</th>\n",
       "      <th style=\"min-width: 12px;\">coef lower 95%</th>\n",
       "      <th style=\"min-width: 12px;\">coef upper 95%</th>\n",
       "      <th style=\"min-width: 12px;\">exp(coef) lower 95%</th>\n",
       "      <th style=\"min-width: 12px;\">exp(coef) upper 95%</th>\n",
       "      <th style=\"min-width: 12px;\">z</th>\n",
       "      <th style=\"min-width: 12px;\">p</th>\n",
       "      <th style=\"min-width: 12px;\">-log2(p)</th>\n",
       "    </tr>\n",
       "  </thead>\n",
       "  <tbody>\n",
       "    <tr>\n",
       "      <th>decile_score</th>\n",
       "      <td>0.19</td>\n",
       "      <td>1.21</td>\n",
       "      <td>0.01</td>\n",
       "      <td>0.17</td>\n",
       "      <td>0.20</td>\n",
       "      <td>1.19</td>\n",
       "      <td>1.22</td>\n",
       "      <td>28.69</td>\n",
       "      <td>&lt;0.005</td>\n",
       "      <td>598.86</td>\n",
       "    </tr>\n",
       "  </tbody>\n",
       "</table><br><div>\n",
       "<style scoped>\n",
       "    .dataframe tbody tr th:only-of-type {\n",
       "        vertical-align: middle;\n",
       "    }\n",
       "\n",
       "    .dataframe tbody tr th {\n",
       "        vertical-align: top;\n",
       "    }\n",
       "\n",
       "    .dataframe thead th {\n",
       "        text-align: right;\n",
       "    }\n",
       "</style>\n",
       "<table border=\"1\" class=\"dataframe\">\n",
       "  <tbody>\n",
       "    <tr>\n",
       "      <th>Concordance</th>\n",
       "      <td>0.66</td>\n",
       "    </tr>\n",
       "    <tr>\n",
       "      <th>Partial AIC</th>\n",
       "      <td>48073.77</td>\n",
       "    </tr>\n",
       "    <tr>\n",
       "      <th>log-likelihood ratio test</th>\n",
       "      <td>803.80 on 1 df</td>\n",
       "    </tr>\n",
       "    <tr>\n",
       "      <th>-log2(p) of ll-ratio test</th>\n",
       "      <td>584.97</td>\n",
       "    </tr>\n",
       "  </tbody>\n",
       "</table>\n",
       "</div>"
      ],
      "text/latex": [
       "\\begin{tabular}{lrrrrrrrrrr}\n",
       "\\toprule\n",
       "{} &  coef &  exp(coef) &  se(coef) &  coef lower 95\\% &  coef upper 95\\% &  exp(coef) lower 95\\% &  exp(coef) upper 95\\% &     z &    p &  -log2(p) \\\\\n",
       "covariate    &       &            &           &                 &                 &                      &                      &       &      &           \\\\\n",
       "\\midrule\n",
       "decile\\_score &  0.19 &       1.21 &      0.01 &            0.17 &            0.20 &                 1.19 &                 1.22 & 28.69 & 0.00 &    598.86 \\\\\n",
       "\\bottomrule\n",
       "\\end{tabular}\n"
      ],
      "text/plain": [
       "<lifelines.CoxPHFitter: fitted with 10314 total observations, 7555 right-censored observations>\n",
       "             duration col = 'duration'\n",
       "                event col = 'event'\n",
       "      baseline estimation = breslow\n",
       "   number of observations = 10314\n",
       "number of events observed = 2759\n",
       "   partial log-likelihood = -24035.89\n",
       "         time fit was run = 2021-09-20 02:04:48 UTC\n",
       "\n",
       "---\n",
       "               coef  exp(coef)   se(coef)   coef lower 95%   coef upper 95%  exp(coef) lower 95%  exp(coef) upper 95%\n",
       "covariate                                                                                                            \n",
       "decile_score   0.19       1.21       0.01             0.17             0.20                 1.19                 1.22\n",
       "\n",
       "                 z      p   -log2(p)\n",
       "covariate                           \n",
       "decile_score 28.69 <0.005     598.86\n",
       "---\n",
       "Concordance = 0.66\n",
       "Partial AIC = 48073.77\n",
       "log-likelihood ratio test = 803.80 on 1 df\n",
       "-log2(p) of ll-ratio test = 584.97"
      ]
     },
     "metadata": {},
     "output_type": "display_data"
    }
   ],
   "source": [
    "cph.print_summary()"
   ]
  },
  {
   "cell_type": "code",
   "execution_count": 163,
   "metadata": {},
   "outputs": [
    {
     "data": {
      "text/plain": [
       "<lifelines.CoxPHFitter: fitted with 10314 total observations, 7555 right-censored observations>"
      ]
     },
     "execution_count": 163,
     "metadata": {},
     "output_type": "execute_result"
    }
   ],
   "source": [
    "formula = \"race + score_text + race * score_text\"\n",
    "cph.fit(df_compas, duration_col='duration', event_col='event', formula=formula)"
   ]
  },
  {
   "cell_type": "code",
   "execution_count": 164,
   "metadata": {},
   "outputs": [
    {
     "data": {
      "text/html": [
       "<div>\n",
       "<style scoped>\n",
       "    .dataframe tbody tr th:only-of-type {\n",
       "        vertical-align: middle;\n",
       "    }\n",
       "\n",
       "    .dataframe tbody tr th {\n",
       "        vertical-align: top;\n",
       "    }\n",
       "\n",
       "    .dataframe thead th {\n",
       "        text-align: right;\n",
       "    }\n",
       "</style>\n",
       "<table border=\"1\" class=\"dataframe\">\n",
       "  <tbody>\n",
       "    <tr>\n",
       "      <th>model</th>\n",
       "      <td>lifelines.CoxPHFitter</td>\n",
       "    </tr>\n",
       "    <tr>\n",
       "      <th>duration col</th>\n",
       "      <td>'duration'</td>\n",
       "    </tr>\n",
       "    <tr>\n",
       "      <th>event col</th>\n",
       "      <td>'event'</td>\n",
       "    </tr>\n",
       "    <tr>\n",
       "      <th>baseline estimation</th>\n",
       "      <td>breslow</td>\n",
       "    </tr>\n",
       "    <tr>\n",
       "      <th>number of observations</th>\n",
       "      <td>10314</td>\n",
       "    </tr>\n",
       "    <tr>\n",
       "      <th>number of events observed</th>\n",
       "      <td>2759</td>\n",
       "    </tr>\n",
       "    <tr>\n",
       "      <th>partial log-likelihood</th>\n",
       "      <td>-24072.72</td>\n",
       "    </tr>\n",
       "    <tr>\n",
       "      <th>time fit was run</th>\n",
       "      <td>2021-09-20 02:27:32 UTC</td>\n",
       "    </tr>\n",
       "  </tbody>\n",
       "</table>\n",
       "</div><table border=\"1\" class=\"dataframe\">\n",
       "  <thead>\n",
       "    <tr style=\"text-align: right;\">\n",
       "      <th style=\"min-width: 12px;\"></th>\n",
       "      <th style=\"min-width: 12px;\">coef</th>\n",
       "      <th style=\"min-width: 12px;\">exp(coef)</th>\n",
       "      <th style=\"min-width: 12px;\">se(coef)</th>\n",
       "      <th style=\"min-width: 12px;\">coef lower 95%</th>\n",
       "      <th style=\"min-width: 12px;\">coef upper 95%</th>\n",
       "      <th style=\"min-width: 12px;\">exp(coef) lower 95%</th>\n",
       "      <th style=\"min-width: 12px;\">exp(coef) upper 95%</th>\n",
       "      <th style=\"min-width: 12px;\">z</th>\n",
       "      <th style=\"min-width: 12px;\">p</th>\n",
       "      <th style=\"min-width: 12px;\">-log2(p)</th>\n",
       "    </tr>\n",
       "  </thead>\n",
       "  <tbody>\n",
       "    <tr>\n",
       "      <th>race[T.Asian]</th>\n",
       "      <td>0.81</td>\n",
       "      <td>2.24</td>\n",
       "      <td>0.58</td>\n",
       "      <td>-0.33</td>\n",
       "      <td>1.94</td>\n",
       "      <td>0.72</td>\n",
       "      <td>6.96</td>\n",
       "      <td>1.39</td>\n",
       "      <td>0.16</td>\n",
       "      <td>2.61</td>\n",
       "    </tr>\n",
       "    <tr>\n",
       "      <th>race[T.Caucasian]</th>\n",
       "      <td>-0.03</td>\n",
       "      <td>0.97</td>\n",
       "      <td>0.09</td>\n",
       "      <td>-0.21</td>\n",
       "      <td>0.15</td>\n",
       "      <td>0.81</td>\n",
       "      <td>1.16</td>\n",
       "      <td>-0.33</td>\n",
       "      <td>0.74</td>\n",
       "      <td>0.43</td>\n",
       "    </tr>\n",
       "    <tr>\n",
       "      <th>race[T.Hispanic]</th>\n",
       "      <td>-0.18</td>\n",
       "      <td>0.84</td>\n",
       "      <td>0.18</td>\n",
       "      <td>-0.53</td>\n",
       "      <td>0.17</td>\n",
       "      <td>0.59</td>\n",
       "      <td>1.19</td>\n",
       "      <td>-1.01</td>\n",
       "      <td>0.31</td>\n",
       "      <td>1.67</td>\n",
       "    </tr>\n",
       "    <tr>\n",
       "      <th>race[T.Native American]</th>\n",
       "      <td>0.13</td>\n",
       "      <td>1.14</td>\n",
       "      <td>0.58</td>\n",
       "      <td>-1.00</td>\n",
       "      <td>1.27</td>\n",
       "      <td>0.37</td>\n",
       "      <td>3.56</td>\n",
       "      <td>0.23</td>\n",
       "      <td>0.82</td>\n",
       "      <td>0.29</td>\n",
       "    </tr>\n",
       "    <tr>\n",
       "      <th>race[T.Other]</th>\n",
       "      <td>0.38</td>\n",
       "      <td>1.46</td>\n",
       "      <td>0.24</td>\n",
       "      <td>-0.09</td>\n",
       "      <td>0.85</td>\n",
       "      <td>0.91</td>\n",
       "      <td>2.33</td>\n",
       "      <td>1.57</td>\n",
       "      <td>0.12</td>\n",
       "      <td>3.11</td>\n",
       "    </tr>\n",
       "    <tr>\n",
       "      <th>score_text[T.Low]</th>\n",
       "      <td>-1.02</td>\n",
       "      <td>0.36</td>\n",
       "      <td>0.06</td>\n",
       "      <td>-1.14</td>\n",
       "      <td>-0.89</td>\n",
       "      <td>0.32</td>\n",
       "      <td>0.41</td>\n",
       "      <td>-16.41</td>\n",
       "      <td>&lt;0.005</td>\n",
       "      <td>198.58</td>\n",
       "    </tr>\n",
       "    <tr>\n",
       "      <th>score_text[T.Medium]</th>\n",
       "      <td>-0.35</td>\n",
       "      <td>0.71</td>\n",
       "      <td>0.06</td>\n",
       "      <td>-0.47</td>\n",
       "      <td>-0.23</td>\n",
       "      <td>0.63</td>\n",
       "      <td>0.79</td>\n",
       "      <td>-5.78</td>\n",
       "      <td>&lt;0.005</td>\n",
       "      <td>27.01</td>\n",
       "    </tr>\n",
       "    <tr>\n",
       "      <th>race[T.Asian]:score_text[T.Low]</th>\n",
       "      <td>-2.42</td>\n",
       "      <td>0.09</td>\n",
       "      <td>0.91</td>\n",
       "      <td>-4.22</td>\n",
       "      <td>-0.63</td>\n",
       "      <td>0.01</td>\n",
       "      <td>0.53</td>\n",
       "      <td>-2.65</td>\n",
       "      <td>0.01</td>\n",
       "      <td>6.95</td>\n",
       "    </tr>\n",
       "    <tr>\n",
       "      <th>race[T.Caucasian]:score_text[T.Low]</th>\n",
       "      <td>-0.26</td>\n",
       "      <td>0.77</td>\n",
       "      <td>0.11</td>\n",
       "      <td>-0.49</td>\n",
       "      <td>-0.04</td>\n",
       "      <td>0.62</td>\n",
       "      <td>0.96</td>\n",
       "      <td>-2.30</td>\n",
       "      <td>0.02</td>\n",
       "      <td>5.54</td>\n",
       "    </tr>\n",
       "    <tr>\n",
       "      <th>race[T.Hispanic]:score_text[T.Low]</th>\n",
       "      <td>-0.11</td>\n",
       "      <td>0.90</td>\n",
       "      <td>0.21</td>\n",
       "      <td>-0.51</td>\n",
       "      <td>0.29</td>\n",
       "      <td>0.60</td>\n",
       "      <td>1.34</td>\n",
       "      <td>-0.53</td>\n",
       "      <td>0.60</td>\n",
       "      <td>0.74</td>\n",
       "    </tr>\n",
       "    <tr>\n",
       "      <th>race[T.Native American]:score_text[T.Low]</th>\n",
       "      <td>-12.80</td>\n",
       "      <td>0.00</td>\n",
       "      <td>297.20</td>\n",
       "      <td>-595.30</td>\n",
       "      <td>569.69</td>\n",
       "      <td>0.00</td>\n",
       "      <td>2.60e+247</td>\n",
       "      <td>-0.04</td>\n",
       "      <td>0.97</td>\n",
       "      <td>0.05</td>\n",
       "    </tr>\n",
       "    <tr>\n",
       "      <th>race[T.Other]:score_text[T.Low]</th>\n",
       "      <td>-0.72</td>\n",
       "      <td>0.49</td>\n",
       "      <td>0.27</td>\n",
       "      <td>-1.25</td>\n",
       "      <td>-0.20</td>\n",
       "      <td>0.29</td>\n",
       "      <td>0.82</td>\n",
       "      <td>-2.69</td>\n",
       "      <td>0.01</td>\n",
       "      <td>7.13</td>\n",
       "    </tr>\n",
       "    <tr>\n",
       "      <th>race[T.Asian]:score_text[T.Medium]</th>\n",
       "      <td>-0.99</td>\n",
       "      <td>0.37</td>\n",
       "      <td>0.82</td>\n",
       "      <td>-2.59</td>\n",
       "      <td>0.62</td>\n",
       "      <td>0.07</td>\n",
       "      <td>1.86</td>\n",
       "      <td>-1.20</td>\n",
       "      <td>0.23</td>\n",
       "      <td>2.13</td>\n",
       "    </tr>\n",
       "    <tr>\n",
       "      <th>race[T.Caucasian]:score_text[T.Medium]</th>\n",
       "      <td>-0.10</td>\n",
       "      <td>0.90</td>\n",
       "      <td>0.12</td>\n",
       "      <td>-0.34</td>\n",
       "      <td>0.13</td>\n",
       "      <td>0.72</td>\n",
       "      <td>1.14</td>\n",
       "      <td>-0.84</td>\n",
       "      <td>0.40</td>\n",
       "      <td>1.32</td>\n",
       "    </tr>\n",
       "    <tr>\n",
       "      <th>race[T.Hispanic]:score_text[T.Medium]</th>\n",
       "      <td>-0.03</td>\n",
       "      <td>0.97</td>\n",
       "      <td>0.23</td>\n",
       "      <td>-0.48</td>\n",
       "      <td>0.43</td>\n",
       "      <td>0.62</td>\n",
       "      <td>1.54</td>\n",
       "      <td>-0.11</td>\n",
       "      <td>0.91</td>\n",
       "      <td>0.13</td>\n",
       "    </tr>\n",
       "    <tr>\n",
       "      <th>race[T.Native American]:score_text[T.Medium]</th>\n",
       "      <td>-0.25</td>\n",
       "      <td>0.78</td>\n",
       "      <td>0.82</td>\n",
       "      <td>-1.86</td>\n",
       "      <td>1.35</td>\n",
       "      <td>0.16</td>\n",
       "      <td>3.87</td>\n",
       "      <td>-0.31</td>\n",
       "      <td>0.76</td>\n",
       "      <td>0.40</td>\n",
       "    </tr>\n",
       "    <tr>\n",
       "      <th>race[T.Other]:score_text[T.Medium]</th>\n",
       "      <td>-0.73</td>\n",
       "      <td>0.48</td>\n",
       "      <td>0.32</td>\n",
       "      <td>-1.36</td>\n",
       "      <td>-0.11</td>\n",
       "      <td>0.26</td>\n",
       "      <td>0.90</td>\n",
       "      <td>-2.29</td>\n",
       "      <td>0.02</td>\n",
       "      <td>5.52</td>\n",
       "    </tr>\n",
       "  </tbody>\n",
       "</table><br><div>\n",
       "<style scoped>\n",
       "    .dataframe tbody tr th:only-of-type {\n",
       "        vertical-align: middle;\n",
       "    }\n",
       "\n",
       "    .dataframe tbody tr th {\n",
       "        vertical-align: top;\n",
       "    }\n",
       "\n",
       "    .dataframe thead th {\n",
       "        text-align: right;\n",
       "    }\n",
       "</style>\n",
       "<table border=\"1\" class=\"dataframe\">\n",
       "  <tbody>\n",
       "    <tr>\n",
       "      <th>Concordance</th>\n",
       "      <td>0.64</td>\n",
       "    </tr>\n",
       "    <tr>\n",
       "      <th>Partial AIC</th>\n",
       "      <td>48179.44</td>\n",
       "    </tr>\n",
       "    <tr>\n",
       "      <th>log-likelihood ratio test</th>\n",
       "      <td>730.12 on 17 df</td>\n",
       "    </tr>\n",
       "    <tr>\n",
       "      <th>-log2(p) of ll-ratio test</th>\n",
       "      <td>476.58</td>\n",
       "    </tr>\n",
       "  </tbody>\n",
       "</table>\n",
       "</div>"
      ],
      "text/latex": [
       "\\begin{tabular}{lrrrrrrrrrr}\n",
       "\\toprule\n",
       "{} &   coef &  exp(coef) &  se(coef) &  coef lower 95\\% &  coef upper 95\\% &  exp(coef) lower 95\\% &                                exp(coef) upper 95\\% &      z &    p &  -log2(p) \\\\\n",
       "covariate                                    &        &            &           &                 &                 &                      &                                                    &        &      &           \\\\\n",
       "\\midrule\n",
       "race[T.Asian]                                &   0.81 &       2.24 &      0.58 &           -0.33 &            1.94 &                 0.72 &                                               6.96 &   1.39 & 0.16 &      2.61 \\\\\n",
       "race[T.Caucasian]                            &  -0.03 &       0.97 &      0.09 &           -0.21 &            0.15 &                 0.81 &                                               1.16 &  -0.33 & 0.74 &      0.43 \\\\\n",
       "race[T.Hispanic]                             &  -0.18 &       0.84 &      0.18 &           -0.53 &            0.17 &                 0.59 &                                               1.19 &  -1.01 & 0.31 &      1.67 \\\\\n",
       "race[T.Native American]                      &   0.13 &       1.14 &      0.58 &           -1.00 &            1.27 &                 0.37 &                                               3.56 &   0.23 & 0.82 &      0.29 \\\\\n",
       "race[T.Other]                                &   0.38 &       1.46 &      0.24 &           -0.09 &            0.85 &                 0.91 &                                               2.33 &   1.57 & 0.12 &      3.11 \\\\\n",
       "score\\_text[T.Low]                            &  -1.02 &       0.36 &      0.06 &           -1.14 &           -0.89 &                 0.32 &                                               0.41 & -16.41 & 0.00 &    198.58 \\\\\n",
       "score\\_text[T.Medium]                         &  -0.35 &       0.71 &      0.06 &           -0.47 &           -0.23 &                 0.63 &                                               0.79 &  -5.78 & 0.00 &     27.01 \\\\\n",
       "race[T.Asian]:score\\_text[T.Low]              &  -2.42 &       0.09 &      0.91 &           -4.22 &           -0.63 &                 0.01 &                                               0.53 &  -2.65 & 0.01 &      6.95 \\\\\n",
       "race[T.Caucasian]:score\\_text[T.Low]          &  -0.26 &       0.77 &      0.11 &           -0.49 &           -0.04 &                 0.62 &                                               0.96 &  -2.30 & 0.02 &      5.54 \\\\\n",
       "race[T.Hispanic]:score\\_text[T.Low]           &  -0.11 &       0.90 &      0.21 &           -0.51 &            0.29 &                 0.60 &                                               1.34 &  -0.53 & 0.60 &      0.74 \\\\\n",
       "race[T.Native American]:score\\_text[T.Low]    & -12.80 &       0.00 &    297.20 &         -595.30 &          569.69 &                 0.00 & 25979801267383649732019758212239059942233299442... &  -0.04 & 0.97 &      0.05 \\\\\n",
       "race[T.Other]:score\\_text[T.Low]              &  -0.72 &       0.49 &      0.27 &           -1.25 &           -0.20 &                 0.29 &                                               0.82 &  -2.69 & 0.01 &      7.13 \\\\\n",
       "race[T.Asian]:score\\_text[T.Medium]           &  -0.99 &       0.37 &      0.82 &           -2.59 &            0.62 &                 0.07 &                                               1.86 &  -1.20 & 0.23 &      2.13 \\\\\n",
       "race[T.Caucasian]:score\\_text[T.Medium]       &  -0.10 &       0.90 &      0.12 &           -0.34 &            0.13 &                 0.72 &                                               1.14 &  -0.84 & 0.40 &      1.32 \\\\\n",
       "race[T.Hispanic]:score\\_text[T.Medium]        &  -0.03 &       0.97 &      0.23 &           -0.48 &            0.43 &                 0.62 &                                               1.54 &  -0.11 & 0.91 &      0.13 \\\\\n",
       "race[T.Native American]:score\\_text[T.Medium] &  -0.25 &       0.78 &      0.82 &           -1.86 &            1.35 &                 0.16 &                                               3.87 &  -0.31 & 0.76 &      0.40 \\\\\n",
       "race[T.Other]:score\\_text[T.Medium]           &  -0.73 &       0.48 &      0.32 &           -1.36 &           -0.11 &                 0.26 &                                               0.90 &  -2.29 & 0.02 &      5.52 \\\\\n",
       "\\bottomrule\n",
       "\\end{tabular}\n"
      ],
      "text/plain": [
       "<lifelines.CoxPHFitter: fitted with 10314 total observations, 7555 right-censored observations>\n",
       "             duration col = 'duration'\n",
       "                event col = 'event'\n",
       "      baseline estimation = breslow\n",
       "   number of observations = 10314\n",
       "number of events observed = 2759\n",
       "   partial log-likelihood = -24072.72\n",
       "         time fit was run = 2021-09-20 02:27:32 UTC\n",
       "\n",
       "---\n",
       "                                               coef  exp(coef)   se(coef)   coef lower 95%   coef upper 95%  exp(coef) lower 95%  exp(coef) upper 95%\n",
       "covariate                                                                                                                                            \n",
       "race[T.Asian]                                  0.81       2.24       0.58            -0.33             1.94                 0.72                 6.96\n",
       "race[T.Caucasian]                             -0.03       0.97       0.09            -0.21             0.15                 0.81                 1.16\n",
       "race[T.Hispanic]                              -0.18       0.84       0.18            -0.53             0.17                 0.59                 1.19\n",
       "race[T.Native American]                        0.13       1.14       0.58            -1.00             1.27                 0.37                 3.56\n",
       "race[T.Other]                                  0.38       1.46       0.24            -0.09             0.85                 0.91                 2.33\n",
       "score_text[T.Low]                             -1.02       0.36       0.06            -1.14            -0.89                 0.32                 0.41\n",
       "score_text[T.Medium]                          -0.35       0.71       0.06            -0.47            -0.23                 0.63                 0.79\n",
       "race[T.Asian]:score_text[T.Low]               -2.42       0.09       0.91            -4.22            -0.63                 0.01                 0.53\n",
       "race[T.Caucasian]:score_text[T.Low]           -0.26       0.77       0.11            -0.49            -0.04                 0.62                 0.96\n",
       "race[T.Hispanic]:score_text[T.Low]            -0.11       0.90       0.21            -0.51             0.29                 0.60                 1.34\n",
       "race[T.Native American]:score_text[T.Low]    -12.80       0.00     297.20          -595.30           569.69                 0.00            2.60e+247\n",
       "race[T.Other]:score_text[T.Low]               -0.72       0.49       0.27            -1.25            -0.20                 0.29                 0.82\n",
       "race[T.Asian]:score_text[T.Medium]            -0.99       0.37       0.82            -2.59             0.62                 0.07                 1.86\n",
       "race[T.Caucasian]:score_text[T.Medium]        -0.10       0.90       0.12            -0.34             0.13                 0.72                 1.14\n",
       "race[T.Hispanic]:score_text[T.Medium]         -0.03       0.97       0.23            -0.48             0.43                 0.62                 1.54\n",
       "race[T.Native American]:score_text[T.Medium]  -0.25       0.78       0.82            -1.86             1.35                 0.16                 3.87\n",
       "race[T.Other]:score_text[T.Medium]            -0.73       0.48       0.32            -1.36            -0.11                 0.26                 0.90\n",
       "\n",
       "                                                  z      p   -log2(p)\n",
       "covariate                                                            \n",
       "race[T.Asian]                                  1.39   0.16       2.61\n",
       "race[T.Caucasian]                             -0.33   0.74       0.43\n",
       "race[T.Hispanic]                              -1.01   0.31       1.67\n",
       "race[T.Native American]                        0.23   0.82       0.29\n",
       "race[T.Other]                                  1.57   0.12       3.11\n",
       "score_text[T.Low]                            -16.41 <0.005     198.58\n",
       "score_text[T.Medium]                          -5.78 <0.005      27.01\n",
       "race[T.Asian]:score_text[T.Low]               -2.65   0.01       6.95\n",
       "race[T.Caucasian]:score_text[T.Low]           -2.30   0.02       5.54\n",
       "race[T.Hispanic]:score_text[T.Low]            -0.53   0.60       0.74\n",
       "race[T.Native American]:score_text[T.Low]     -0.04   0.97       0.05\n",
       "race[T.Other]:score_text[T.Low]               -2.69   0.01       7.13\n",
       "race[T.Asian]:score_text[T.Medium]            -1.20   0.23       2.13\n",
       "race[T.Caucasian]:score_text[T.Medium]        -0.84   0.40       1.32\n",
       "race[T.Hispanic]:score_text[T.Medium]         -0.11   0.91       0.13\n",
       "race[T.Native American]:score_text[T.Medium]  -0.31   0.76       0.40\n",
       "race[T.Other]:score_text[T.Medium]            -2.29   0.02       5.52\n",
       "---\n",
       "Concordance = 0.64\n",
       "Partial AIC = 48179.44\n",
       "log-likelihood ratio test = 730.12 on 17 df\n",
       "-log2(p) of ll-ratio test = 476.58"
      ]
     },
     "metadata": {},
     "output_type": "display_data"
    }
   ],
   "source": [
    "cph.print_summary()"
   ]
  },
  {
   "cell_type": "code",
   "execution_count": 183,
   "metadata": {},
   "outputs": [
    {
     "name": "stdout",
     "output_type": "stream",
     "text": [
      "ICI =  0.010849694717334157\n",
      "E50 =  0.014255962833886082\n"
     ]
    },
    {
     "name": "stderr",
     "output_type": "stream",
     "text": [
      "/Users/bruna/miniconda3/envs/fairness/lib/python3.6/site-packages/matplotlib/cbook/__init__.py:1402: FutureWarning: Support for multi-dimensional indexing (e.g. `obj[:, None]`) is deprecated and will be removed in a future version.  Convert to a numpy array before indexing instead.\n",
      "  x[:, None]\n",
      "/Users/bruna/miniconda3/envs/fairness/lib/python3.6/site-packages/matplotlib/axes/_base.py:278: FutureWarning: Support for multi-dimensional indexing (e.g. `obj[:, None]`) is deprecated and will be removed in a future version.  Convert to a numpy array before indexing instead.\n",
      "  y = y[:, np.newaxis]\n"
     ]
    },
    {
     "data": {
      "text/plain": [
       "(<matplotlib.axes._subplots.AxesSubplot at 0x1a4469f1d0>,\n",
       " 0.010849694717334157,\n",
       " 0.014255962833886082)"
      ]
     },
     "execution_count": 183,
     "metadata": {},
     "output_type": "execute_result"
    },
    {
     "data": {
      "image/png": "[encoded data removed]",
      "text/plain": [
       "<Figure size 432x288 with 2 Axes>"
      ]
     },
     "metadata": {},
     "output_type": "display_data"
    }
   ],
   "source": [
    "from lifelines.calibration import survival_probability_calibration\n",
    "\n",
    "survival_probability_calibration(cph, df_compas, t0=1000)"
   ]
  },
  {
   "cell_type": "code",
   "execution_count": 201,
   "metadata": {},
   "outputs": [],
   "source": [
    "censored_subjects_low = df_compas.loc[(~df_compas['event'].astype(bool)) & (df_compas['score_text'] == 'Low')]\n",
    "censored_subjects_last_obs_low = censored_subjects_low['duration']\n",
    "\n",
    "censored_subjects_med = df_compas.loc[(~df_compas['event'].astype(bool)) & (df_compas['score_text'] == 'Medium')]\n",
    "censored_subjects_last_obs_med = censored_subjects_med['duration']\n",
    "\n",
    "censored_subjects_hi = df_compas.loc[(~df_compas['event'].astype(bool)) & (df_compas['score_text'] == 'High')]\n",
    "censored_subjects_last_obs_hi = censored_subjects_hi['duration']\n",
    "\n",
    "# predict new survival function\n",
    "pred_low = cph.predict_survival_function(censored_subjects_low, conditional_after=censored_subjects_last_obs_low)\n",
    "pred_med = cph.predict_survival_function(censored_subjects_med, conditional_after=censored_subjects_last_obs_med)\n",
    "pred_hi = cph.predict_survival_function(censored_subjects_hi, conditional_after=censored_subjects_last_obs_hi)"
   ]
  },
  {
   "cell_type": "code",
   "execution_count": 202,
   "metadata": {},
   "outputs": [],
   "source": [
    "def survival_curve_median_calc(surv1, surv2):\n",
    "    # Median and standard deviation\n",
    "    df_surv_median1 = surv1.median(axis=1)\n",
    "    df_surv_std1 = surv1.std(axis=1)\n",
    "    df_surv_median2 = surv2.median(axis=1)\n",
    "    df_surv_std2 = surv2.std(axis=1)\n",
    "\n",
    "    return df_surv_median1, df_surv_std1, df_surv_median2, df_surv_std2\n",
    "\n",
    "\n",
    "def survival_curve_plot(surv1, surv2, label1, label2, group_name):\n",
    "    df_surv_median1, df_surv_std1, df_surv_median2, df_surv_std2 = survival_curve_median_calc(surv1, surv2)\n",
    "\n",
    "    # 95% Confidence interval\n",
    "    ci1_left = surv1.quantile(0.025, axis=1)\n",
    "    ci1_right = surv1.quantile(0.975, axis=1)\n",
    "    ci2_left = surv2.quantile(0.025, axis=1)\n",
    "    ci2_right = surv2.quantile(0.975, axis=1)\n",
    "\n",
    "    # Plot curves\n",
    "    ax = df_surv_median1.plot(label=label1, color='turquoise', linestyle='--')\n",
    "    ax.fill_between(df_surv_median1.index, ci1_left, ci1_right, alpha=0.2, facecolor='turquoise')\n",
    "\n",
    "    ax.plot(df_surv_median2, label=label2, color='slateblue', linestyle='-.')\n",
    "    ax.fill_between(df_surv_median2.index, ci2_left, ci2_right, alpha=0.2, facecolor='slateblue')\n",
    "\n",
    "    plt.legend(loc=\"upper right\")\n",
    "    plt.ylabel('S(t | x)')\n",
    "    plt.xlabel('Time')"
   ]
  },
  {
   "cell_type": "code",
   "execution_count": 204,
   "metadata": {},
   "outputs": [
    {
     "data": {
      "image/png": "[encoded data removed]",
      "text/plain": [
       "<Figure size 432x288 with 1 Axes>"
      ]
     },
     "metadata": {},
     "output_type": "display_data"
    }
   ],
   "source": [
    "survival_curve_plot(pred_low, pred_med, \"women\", \"men\", \"women-men\")"
   ]
  },
  {
   "cell_type": "code",
   "execution_count": 186,
   "metadata": {},
   "outputs": [],
   "source": [
    "# cph.plot_partial_effects_on_outcome('race', values=np.arange(0, 2, 1))"
   ]
  },
  {
   "cell_type": "code",
   "execution_count": null,
   "metadata": {},
   "outputs": [],
   "source": []
  },
  {
   "cell_type": "code",
   "execution_count": null,
   "metadata": {},
   "outputs": [],
   "source": []
  },
  {
   "cell_type": "code",
   "execution_count": null,
   "metadata": {},
   "outputs": [],
   "source": []
  }
 ],
 "metadata": {
  "kernelspec": {
   "display_name": "Python 3",
   "language": "python",
   "name": "python3"
  },
  "language_info": {
   "codemirror_mode": {
    "name": "ipython",
    "version": 3
   },
   "file_extension": ".py",
   "mimetype": "text/x-python",
   "name": "python",
   "nbconvert_exporter": "python",
   "pygments_lexer": "ipython3",
   "version": "3.6.8"
  }
 },
 "nbformat": 4,
 "nbformat_minor": 2
}
