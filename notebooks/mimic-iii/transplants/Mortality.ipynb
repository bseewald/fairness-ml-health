{
 "cells": [
  {
   "cell_type": "code",
   "execution_count": 1,
   "metadata": {},
   "outputs": [],
   "source": [
    "# Imports\n",
    "import pandas as pd\n",
    "import numpy as np\n",
    "import psycopg2\n",
    "import tqdm\n",
    "from time import gmtime, strftime"
   ]
  },
  {
   "cell_type": "markdown",
   "metadata": {},
   "source": [
    "#### POSTGRESQL"
   ]
  },
  {
   "cell_type": "code",
   "execution_count": 2,
   "metadata": {},
   "outputs": [],
   "source": [
    "# Notebook\n",
    "host = '/tmp'\n",
    "\n",
    "# Locus\n",
    "# host = '/var/run/postgresql'\n",
    "\n",
    "con = psycopg2.connect(dbname ='mimic', user='postgres', password=\"*2465RMLbru\", host=host)\n",
    "cur = con.cursor()"
   ]
  },
  {
   "cell_type": "markdown",
   "metadata": {
    "colab_type": "text",
    "id": "11xcgkhULsVh"
   },
   "source": [
    "### Patients table"
   ]
  },
  {
   "cell_type": "code",
   "execution_count": 3,
   "metadata": {},
   "outputs": [],
   "source": [
    "pat_query = '''SELECT * FROM mimiciii.patients;'''\n",
    "mimic_patients_df = pd.read_sql_query(pat_query, con)"
   ]
  },
  {
   "cell_type": "markdown",
   "metadata": {
    "colab_type": "text",
    "id": "5Spf4HPWLuuI"
   },
   "source": [
    "### Admission table"
   ]
  },
  {
   "cell_type": "code",
   "execution_count": 4,
   "metadata": {},
   "outputs": [],
   "source": [
    "adm_query = '''SELECT * FROM mimiciii.admissions;'''\n",
    "mimic_admission_df = pd.read_sql_query(adm_query, con)"
   ]
  },
  {
   "cell_type": "markdown",
   "metadata": {
    "colab_type": "text",
    "id": "8TV--jk7LzT5"
   },
   "source": [
    "#### Merge both tables and calculate true age"
   ]
  },
  {
   "cell_type": "code",
   "execution_count": 5,
   "metadata": {},
   "outputs": [],
   "source": [
    "# Merge patient and admission tables\n",
    "mimic_patients_admission_df = pd.merge(mimic_admission_df, mimic_patients_df, on = 'subject_id' , how = 'inner')"
   ]
  },
  {
   "cell_type": "code",
   "execution_count": 6,
   "metadata": {},
   "outputs": [],
   "source": [
    "# ADMITTIME and DOB objects to datetime\n",
    "mimic_patients_admission_df[\"admittime\"] = pd.to_datetime(mimic_patients_admission_df[\"admittime\"], format='%Y%m%d %H:%M:%S')\n",
    "mimic_patients_admission_df[\"dob\"] = pd.to_datetime(mimic_patients_admission_df[\"dob\"], format='%Y%m%d %H:%M:%S')\n",
    "\n",
    "# True age\n",
    "mimic_patients_admission_df[\"ages\"] = mimic_patients_admission_df[\"admittime\"].sub(mimic_patients_admission_df[\"dob\"]).dt.days/365.242\n",
    "\n",
    "# Adult patients only\n",
    "mimic_patients_admission_df = mimic_patients_admission_df[(mimic_patients_admission_df['ages'] >= 18)]"
   ]
  },
  {
   "cell_type": "markdown",
   "metadata": {
    "colab_type": "text",
    "id": "caV9jjjiL8To"
   },
   "source": [
    "### ICD-9 Codes table"
   ]
  },
  {
   "cell_type": "code",
   "execution_count": 7,
   "metadata": {},
   "outputs": [],
   "source": [
    "diagnoses_query = '''SELECT * FROM mimiciii.diagnoses_icd;'''\n",
    "mimic_diagnoses_df = pd.read_sql_query(diagnoses_query, con)"
   ]
  },
  {
   "cell_type": "code",
   "execution_count": 8,
   "metadata": {},
   "outputs": [],
   "source": [
    "mimic_patients_diagnoses_df = pd.merge(mimic_patients_admission_df, mimic_diagnoses_df, on = ['subject_id', 'hadm_id'], how = 'inner')"
   ]
  },
  {
   "cell_type": "markdown",
   "metadata": {
    "colab_type": "text",
    "id": "OmGkIYxsMl-3"
   },
   "source": [
    "### ICD-9 Descriptions table"
   ]
  },
  {
   "cell_type": "code",
   "execution_count": 9,
   "metadata": {},
   "outputs": [],
   "source": [
    "diagnoses_descriptions_query = '''SELECT * FROM mimiciii.d_icd_diagnoses;'''\n",
    "mimic_diagnoses_descriptions_df = pd.read_sql_query(diagnoses_descriptions_query, con)"
   ]
  },
  {
   "cell_type": "markdown",
   "metadata": {
    "colab_type": "text",
    "id": "8GJheX71MS-w"
   },
   "source": [
    "## Occurrence and Mortality"
   ]
  },
  {
   "cell_type": "code",
   "execution_count": 10,
   "metadata": {},
   "outputs": [],
   "source": [
    "# function by wboeg\n",
    "def normalize_ethnicity(ethnicity):\n",
    "    if 'BLACK' in ethnicity:\n",
    "        return 'BLACK'\n",
    "    if 'WHITE' in ethnicity:\n",
    "        return 'WHITE'\n",
    "    if 'ASIAN' in ethnicity:\n",
    "        return 'ASIAN'\n",
    "    if 'LATINO' in ethnicity:\n",
    "        return 'LATINO'\n",
    "    if 'HISPANIC' in ethnicity:\n",
    "        return 'LATINO'\n",
    "    if 'SOUTH AMERICAN' in ethnicity:\n",
    "        return 'LATINO'\n",
    "    if 'CARIBBEAN ISLAND' in ethnicity:\n",
    "        return 'OTHER'\n",
    "    if 'AMERICAN INDIAN' in ethnicity:\n",
    "        return 'OTHER'    \n",
    "    if 'MIDDLE EASTERN' in ethnicity:\n",
    "        return 'OTHER'\n",
    "    if 'MULTI RACE ETHNICITY' in ethnicity:\n",
    "        return 'OTHER'\n",
    "    if 'NATIVE HAWAIIAN OR OTHER PACIFIC ISLANDER' in ethnicity:\n",
    "        return 'OTHER'\n",
    "    if 'PORTUGUESE' in ethnicity:\n",
    "        return 'OTHER'       \n",
    "    return 'UNKNOWN'\n",
    "\n",
    "def normalize_insurance(ins):\n",
    "    if ins in ['Government', 'Medicaid', 'Medicare']:\n",
    "        return 'Public'\n",
    "    elif ins == 'Private':\n",
    "        return 'Private'\n",
    "    else:\n",
    "        return 'Self-Pay'"
   ]
  },
  {
   "cell_type": "code",
   "execution_count": 11,
   "metadata": {},
   "outputs": [],
   "source": [
    "mimic_patients_diagnoses_df['ethnicity'] = mimic_patients_diagnoses_df['ethnicity'].apply(normalize_ethnicity)\n",
    "mimic_patients_diagnoses_df['insurance'] = mimic_patients_diagnoses_df['insurance'].apply(normalize_insurance)"
   ]
  },
  {
   "cell_type": "code",
   "execution_count": 12,
   "metadata": {},
   "outputs": [],
   "source": [
    "# Patients who stayed more than 12 hours (Boag2018)\n",
    "inds_at_least_12hrs = (mimic_patients_diagnoses_df['dischtime'] - mimic_patients_diagnoses_df['admittime']) > pd.Timedelta(hours=12)\n",
    "selected_mimic_patients_diagnoses_df = mimic_patients_diagnoses_df.loc[inds_at_least_12hrs].copy()\n",
    "\n",
    "los = selected_mimic_patients_diagnoses_df['dischtime'] - selected_mimic_patients_diagnoses_df['admittime']\n",
    "selected_mimic_patients_diagnoses_df['los'] = los.apply(lambda t:t.seconds/3600.)"
   ]
  },
  {
   "cell_type": "markdown",
   "metadata": {
    "colab_type": "text",
    "id": "U1MqVs5kM50q"
   },
   "source": [
    "#### Unique patient with multiple rows with same ICD9"
   ]
  },
  {
   "cell_type": "code",
   "execution_count": 31,
   "metadata": {},
   "outputs": [],
   "source": [
    "eth_mortality_df = selected_mimic_patients_diagnoses_df.groupby(['icd9_code', 'ethnicity', 'hospital_expire_flag']).size().unstack()\n",
    "eth_mortality_df = eth_mortality_df.reset_index()\n",
    "eth_mortality_df.columns.names = [None]\n",
    "eth_mortality_df.columns = ['icd9_code', 'ethnicity', 'alive', 'dead']\n",
    "eth_mortality_df.insert(4, 'total', '0')\n",
    "eth_mortality_df = eth_mortality_df.fillna(0)\n",
    "eth_mortality_df['total'] = eth_mortality_df['total'].astype(float)\n",
    "\n",
    "# Compute alive, dead and total\n",
    "for index, row in eth_mortality_df.iterrows():\n",
    "    eth_mortality_df.at[index, 'total'] = row['alive'] + row['dead']\n",
    "    # percentage\n",
    "    # if eth_mortality_df.at[index,'total'] > 0:\n",
    "    #    eth_mortality_df.at[index, 'alive'] = (row['alive']/eth_mortality_df.at[index,'total'])*100\n",
    "    #    eth_mortality_df.at[index, 'dead'] = (row['dead']/eth_mortality_df.at[index,'total'])*100"
   ]
  },
  {
   "cell_type": "code",
   "execution_count": 32,
   "metadata": {},
   "outputs": [],
   "source": [
    "# We are not considering MULTI RACE ETHNICITY, UNKNOWN or OTHER \n",
    "eth_mortality_df = eth_mortality_df[(eth_mortality_df['ethnicity'] != 'OTHER') & (eth_mortality_df['ethnicity'] != 'UNKNOWN')]"
   ]
  },
  {
   "cell_type": "code",
   "execution_count": 33,
   "metadata": {},
   "outputs": [],
   "source": [
    "# merge mortality with descriptions from each ICD\n",
    "eth_mortality_df = eth_mortality_df.merge(mimic_diagnoses_descriptions_df, left_on='icd9_code', right_on='icd9_code')"
   ]
  },
  {
   "cell_type": "markdown",
   "metadata": {
    "colab_type": "text",
    "id": "W0HEn07APpup"
   },
   "source": [
    "#### Transplanted patients"
   ]
  },
  {
   "cell_type": "code",
   "execution_count": 34,
   "metadata": {},
   "outputs": [],
   "source": [
    "# Search only for patients with transplant description\n",
    "transplanted_patients_df = eth_mortality_df[eth_mortality_df['long_title'].str.lower().str.contains('transplant')].copy()"
   ]
  },
  {
   "cell_type": "code",
   "execution_count": 35,
   "metadata": {},
   "outputs": [],
   "source": [
    "# 1. Mortality significance: only +1 patients dead\n",
    "transplanted_patients_df = transplanted_patients_df.loc[eth_mortality_df['dead'] > 1]\n",
    "\n",
    "# 3. Remove ICD9 codes with only ONE ETHNICITY\n",
    "for index, row in transplanted_patients_df.iterrows():\n",
    "    rows = transplanted_patients_df.loc[transplanted_patients_df['icd9_code'] == row['icd9_code']]\n",
    "    if (len(rows) == 1):\n",
    "        transplanted_patients_df.drop(rows.index, inplace=True)"
   ]
  },
  {
   "cell_type": "code",
   "execution_count": 36,
   "metadata": {},
   "outputs": [],
   "source": [
    "# pd.set_option(\"display.max_colwidth\", 500, 'display.max_rows', 100)\n",
    "transplanted_patients_df = transplanted_patients_df.drop(['row_id', 'short_title'], axis=1)"
   ]
  },
  {
   "cell_type": "markdown",
   "metadata": {
    "colab_type": "text",
    "id": "JXwUmYy4ELWF"
   },
   "source": [
    "#### Cancer"
   ]
  },
  {
   "cell_type": "code",
   "execution_count": 37,
   "metadata": {
    "colab": {},
    "colab_type": "code",
    "id": "oaUCwZx69Esu"
   },
   "outputs": [],
   "source": [
    "searchfor = ['neoplasm', 'neoplasms', 'sarcoma', 'carcinoma']\n",
    "cancer_patients_df = eth_mortality_df[eth_mortality_df['long_title'].str.lower().str.contains('|'.join(searchfor))].copy()"
   ]
  },
  {
   "cell_type": "code",
   "execution_count": 38,
   "metadata": {
    "colab": {},
    "colab_type": "code",
    "id": "pO_gf3SVEUfs"
   },
   "outputs": [],
   "source": [
    "# 1. Mortality significance: only +1 patients dead\n",
    "cancer_patients_df = cancer_patients_df.loc[cancer_patients_df['dead'] > 1]\n",
    "\n",
    "# 2. Remove ICD9 codes with only ONE ETHNICITY\n",
    "for index, row in cancer_patients_df.iterrows():\n",
    "    rows = cancer_patients_df.loc[cancer_patients_df['icd9_code'] == row['icd9_code']]\n",
    "    if (len(rows) == 1):\n",
    "        cancer_patients_df.drop(rows.index, inplace=True)"
   ]
  },
  {
   "cell_type": "code",
   "execution_count": 39,
   "metadata": {
    "colab": {},
    "colab_type": "code",
    "id": "k_bsk1jJEUfy"
   },
   "outputs": [],
   "source": [
    "cancer_patients_df = cancer_patients_df.drop(['row_id', 'short_title'], axis=1)"
   ]
  },
  {
   "cell_type": "code",
   "execution_count": 40,
   "metadata": {
    "colab": {
     "base_uri": "https://localhost:8080/",
     "height": 111
    },
    "colab_type": "code",
    "id": "F4mL9P0uEkac",
    "outputId": "e97e842b-fddb-4d02-9d46-9b92b7a7ebe0"
   },
   "outputs": [],
   "source": [
    "# Breast cancer\n",
    "# cancer_patients_df[cancer_patients_df['icd9_code'].str.lower().str.contains(r'^174.*')]\n",
    "\n",
    "# Prostate cancer\n",
    "# cancer_patients_df[cancer_patients_df['icd9_code'].str.lower().str.contains(r'^185.*')]\n",
    "\n",
    "# Malignant Neoplasm Of Other And Unspecified Sites\n",
    "# pd.set_option(\"display.max_colwidth\", 500, 'display.max_rows', 200)\n",
    "# cancer_patients_df[cancer_patients_df['icd9_code'].str.lower().str.contains(r'^19.*')]"
   ]
  },
  {
   "cell_type": "markdown",
   "metadata": {},
   "source": [
    "#### Diabetes"
   ]
  },
  {
   "cell_type": "code",
   "execution_count": 41,
   "metadata": {},
   "outputs": [],
   "source": [
    "diabetes_patients_df = eth_mortality_df[eth_mortality_df['long_title'].str.lower().str.contains('diabetes')].copy()"
   ]
  },
  {
   "cell_type": "code",
   "execution_count": 42,
   "metadata": {},
   "outputs": [],
   "source": [
    "# 1. Mortality significance: only +1 patients dead\n",
    "diabetes_patients_df = diabetes_patients_df.loc[diabetes_patients_df['dead'] > 1]\n",
    "\n",
    "# 2. Remove ICD9 codes with only ONE ETHNICITY\n",
    "for index, row in diabetes_patients_df.iterrows():\n",
    "    rows = diabetes_patients_df.loc[diabetes_patients_df['icd9_code'] == row['icd9_code']]\n",
    "    if (len(rows) == 1):\n",
    "        diabetes_patients_df.drop(rows.index, inplace=True)"
   ]
  },
  {
   "cell_type": "code",
   "execution_count": 43,
   "metadata": {},
   "outputs": [],
   "source": [
    "diabetes_patients_df = diabetes_patients_df.drop(['row_id', 'short_title'], axis=1)"
   ]
  },
  {
   "cell_type": "markdown",
   "metadata": {},
   "source": [
    "### Cohort"
   ]
  },
  {
   "cell_type": "markdown",
   "metadata": {
    "colab_type": "text",
    "id": "WRhZ41HHJAM7"
   },
   "source": [
    "##### HOSPITAL ADMISSIONS FOR EACH ICD9"
   ]
  },
  {
   "cell_type": "code",
   "execution_count": 59,
   "metadata": {},
   "outputs": [],
   "source": [
    "icd9_list = set(transplanted_patients_df['icd9_code'])\n",
    "icd9_list.update(cancer_patients_df['icd9_code'])\n",
    "icd9_list.update(diabetes_patients_df['icd9_code'])\n",
    "\n",
    "hadm_ids_list = set()\n",
    "cohort_df = pd.DataFrame()\n",
    "\n",
    "for icd9 in icd9_list:\n",
    "    patients = selected_mimic_patients_diagnoses_df.loc[(selected_mimic_patients_diagnoses_df[\"icd9_code\"] == icd9)].copy()\n",
    "    cohort_df = cohort_df.append(patients, ignore_index=True)\n",
    "    for hadm_id in patients['hadm_id']:\n",
    "        hadm_ids_list.add(hadm_id)"
   ]
  },
  {
   "cell_type": "code",
   "execution_count": 60,
   "metadata": {},
   "outputs": [],
   "source": [
    "cohort_df = cohort_df[(cohort_df['ethnicity'] != 'OTHER') & (cohort_df['ethnicity'] != 'UNKNOWN')]"
   ]
  },
  {
   "cell_type": "markdown",
   "metadata": {},
   "source": [
    "### MIMIC III Population characteristics"
   ]
  },
  {
   "cell_type": "code",
   "execution_count": 61,
   "metadata": {},
   "outputs": [
    {
     "data": {
      "text/html": [
       "<div>\n",
       "<style scoped>\n",
       "    .dataframe tbody tr th:only-of-type {\n",
       "        vertical-align: middle;\n",
       "    }\n",
       "\n",
       "    .dataframe tbody tr th {\n",
       "        vertical-align: top;\n",
       "    }\n",
       "\n",
       "    .dataframe thead tr th {\n",
       "        text-align: left;\n",
       "    }\n",
       "\n",
       "    .dataframe thead tr:last-of-type th {\n",
       "        text-align: right;\n",
       "    }\n",
       "</style>\n",
       "<table border=\"1\" class=\"dataframe\">\n",
       "  <thead>\n",
       "    <tr>\n",
       "      <th></th>\n",
       "      <th></th>\n",
       "      <th colspan=\"4\" halign=\"left\">Grouped by Ethnicity</th>\n",
       "    </tr>\n",
       "    <tr>\n",
       "      <th></th>\n",
       "      <th></th>\n",
       "      <th>ASIAN</th>\n",
       "      <th>BLACK</th>\n",
       "      <th>LATINO</th>\n",
       "      <th>WHITE</th>\n",
       "    </tr>\n",
       "    <tr>\n",
       "      <th>variable</th>\n",
       "      <th>level</th>\n",
       "      <th></th>\n",
       "      <th></th>\n",
       "      <th></th>\n",
       "      <th></th>\n",
       "    </tr>\n",
       "  </thead>\n",
       "  <tbody>\n",
       "    <tr>\n",
       "      <th>n</th>\n",
       "      <th></th>\n",
       "      <td>789</td>\n",
       "      <td>3596</td>\n",
       "      <td>1091</td>\n",
       "      <td>20580</td>\n",
       "    </tr>\n",
       "    <tr>\n",
       "      <th rowspan=\"2\" valign=\"top\">Gender</th>\n",
       "      <th>F</th>\n",
       "      <td>341 (43.2)</td>\n",
       "      <td>1967 (54.7)</td>\n",
       "      <td>442 (40.5)</td>\n",
       "      <td>8774 (42.6)</td>\n",
       "    </tr>\n",
       "    <tr>\n",
       "      <th>M</th>\n",
       "      <td>448 (56.8)</td>\n",
       "      <td>1629 (45.3)</td>\n",
       "      <td>649 (59.5)</td>\n",
       "      <td>11806 (57.4)</td>\n",
       "    </tr>\n",
       "    <tr>\n",
       "      <th rowspan=\"3\" valign=\"top\">Insurance</th>\n",
       "      <th>Private</th>\n",
       "      <td>165 (20.9)</td>\n",
       "      <td>685 (19.0)</td>\n",
       "      <td>210 (19.2)</td>\n",
       "      <td>6329 (30.8)</td>\n",
       "    </tr>\n",
       "    <tr>\n",
       "      <th>Public</th>\n",
       "      <td>623 (79.0)</td>\n",
       "      <td>2876 (80.0)</td>\n",
       "      <td>871 (79.8)</td>\n",
       "      <td>14203 (69.0)</td>\n",
       "    </tr>\n",
       "    <tr>\n",
       "      <th>Self-Pay</th>\n",
       "      <td>1 (0.1)</td>\n",
       "      <td>35 (1.0)</td>\n",
       "      <td>10 (0.9)</td>\n",
       "      <td>48 (0.2)</td>\n",
       "    </tr>\n",
       "    <tr>\n",
       "      <th>Length of Stay</th>\n",
       "      <th></th>\n",
       "      <td>15.3 [6.2,20.0]</td>\n",
       "      <td>14.1 [5.2,19.8]</td>\n",
       "      <td>13.3 [5.9,19.3]</td>\n",
       "      <td>13.8 [5.5,19.6]</td>\n",
       "    </tr>\n",
       "    <tr>\n",
       "      <th>ages</th>\n",
       "      <th></th>\n",
       "      <td>63.5 [55.1,75.2]</td>\n",
       "      <td>64.0 [55.0,73.0]</td>\n",
       "      <td>60.3 [50.3,70.1]</td>\n",
       "      <td>67.7 [58.3,77.0]</td>\n",
       "    </tr>\n",
       "  </tbody>\n",
       "</table>\n",
       "</div><br />[1] Warning, Hartigan's Dip Test reports possible multimodal distributions for: los.<br />[2] Warning, test for normality reports non-normal distributions for: ages, los.<br />"
      ],
      "text/plain": [
       "                        Grouped by Ethnicity                                                      \n",
       "                                       ASIAN             BLACK            LATINO             WHITE\n",
       "variable       level                                                                              \n",
       "n                                        789              3596              1091             20580\n",
       "Gender         F                  341 (43.2)       1967 (54.7)        442 (40.5)       8774 (42.6)\n",
       "               M                  448 (56.8)       1629 (45.3)        649 (59.5)      11806 (57.4)\n",
       "Insurance      Private            165 (20.9)        685 (19.0)        210 (19.2)       6329 (30.8)\n",
       "               Public             623 (79.0)       2876 (80.0)        871 (79.8)      14203 (69.0)\n",
       "               Self-Pay              1 (0.1)          35 (1.0)          10 (0.9)          48 (0.2)\n",
       "Length of Stay               15.3 [6.2,20.0]   14.1 [5.2,19.8]   13.3 [5.9,19.3]   13.8 [5.5,19.6]\n",
       "ages                        63.5 [55.1,75.2]  64.0 [55.0,73.0]  60.3 [50.3,70.1]  67.7 [58.3,77.0]\n",
       "[1] Warning, Hartigan's Dip Test reports possible multimodal distributions for: los.\n",
       "[2] Warning, test for normality reports non-normal distributions for: ages, los."
      ]
     },
     "execution_count": 61,
     "metadata": {},
     "output_type": "execute_result"
    }
   ],
   "source": [
    "# Pollard TJ, Johnson AEW, Raffa JD, Mark RG (2018). tableone: An open source\n",
    "# Python package for producing summary statistics for research papers.\n",
    "# JAMIA Open, Volume 1, Issue 1, 1 July 2018, Pages 26-31.\n",
    "# https://doi.org/10.1093/jamiaopen/ooy012\n",
    "    \n",
    "# Table One\n",
    "from tableone import TableOne\n",
    "\n",
    "# optionally, a categorical variable for stratification\n",
    "groupby = ['ethnicity']\n",
    "\n",
    "# columns to be summarized\n",
    "columns = ['gender', 'insurance','los', 'ages'] \n",
    "\n",
    "# columns containing categorical variables\n",
    "categorical = ['gender', 'insurance']\n",
    "\n",
    "# non-normal variables\n",
    "nonnormal = ['ages', 'los']\n",
    "\n",
    "# alternative labels\n",
    "labels={'los': 'Length of Stay', 'age': 'Age', 'ethnicity':'Ethnicity',\n",
    "        'gender':'Gender', 'insurance':'Insurance'}\n",
    "\n",
    "# combine all information\n",
    "grouped_df = cohort_df\n",
    "\n",
    "# create an instance of TableOne with the input arguments\n",
    "grouped_table = TableOne(grouped_df, columns, categorical, groupby, nonnormal, rename=labels, isnull=False)\n",
    "\n",
    "# view tableone\n",
    "grouped_table"
   ]
  },
  {
   "cell_type": "markdown",
   "metadata": {},
   "source": [
    "### Oasis score"
   ]
  },
  {
   "cell_type": "markdown",
   "metadata": {},
   "source": [
    "-- ------------------------------------------------------------------\n",
    "- Title: Oxford Acute Severity of Illness Score (OASIS)\n",
    "- This query extracts the Oxford acute severity of illness score.\n",
    "- This score is a measure of severity of illness for patients in the ICU.\n",
    "- The score is calculated on the first day of each ICU patients' stay.\n",
    "-- ------------------------------------------------------------------\n",
    "- Reference for OASIS:\n",
    "-    Johnson, Alistair EW, Andrew A. Kramer, and Gari D. Clifford.\n",
    "-    \"A new severity of illness scale using a subset of acute physiology and chronic health evaluation data elements shows comparable predictive accuracy*.\"\n",
    "-    Critical care medicine 41, no. 7 (2013): 1711-1718.\n",
    "-- ------------------------------------------------------------------\n",
    "- Variables used in OASIS:\n",
    "-  Heart rate, GCS, MAP, Temperature, Respiratory rate, Ventilation status (sourced from CHARTEVENTS)\n",
    "-  Urine output (sourced from OUTPUTEVENTS)\n",
    "-  Elective surgery (sourced from ADMISSIONS and SERVICES)\n",
    "-  Pre-ICU in-hospital length of stay (sourced from ADMISSIONS and ICUSTAYS)\n",
    "-  Age (sourced from PATIENTS)"
   ]
  },
  {
   "cell_type": "code",
   "execution_count": 77,
   "metadata": {},
   "outputs": [],
   "source": [
    "# Get the OASIS scores\n",
    "oasis_query = 'SELECT distinct hadm_id, max(oasis) as oasis FROM mimiciii.oasis GROUP BY hadm_id'\n",
    "oasis = pd.read_sql_query(oasis_query, con)"
   ]
  },
  {
   "cell_type": "code",
   "execution_count": null,
   "metadata": {},
   "outputs": [],
   "source": [
    "def select(scores):\n",
    "    return [scores[hadm_id] for hadm_id in hadm_ids_list]\n",
    "\n",
    "# Low: 0-32\n",
    "# Medium: 33-40\n",
    "# High: 41+\n",
    "selected_patients_oasis_score = select(oasis)"
   ]
  },
  {
   "cell_type": "markdown",
   "metadata": {},
   "source": [
    "### Cox Regression"
   ]
  },
  {
   "cell_type": "code",
   "execution_count": null,
   "metadata": {},
   "outputs": [],
   "source": [
    "# TODO\n",
    "# lifelines"
   ]
  }
 ],
 "metadata": {
  "colab": {
   "collapsed_sections": [
    "JXwUmYy4ELWF"
   ],
   "name": "Transplants-Cancer: ethnicity.ipynb",
   "provenance": []
  },
  "kernelspec": {
   "display_name": "Python 3",
   "language": "python",
   "name": "python3"
  },
  "language_info": {
   "codemirror_mode": {
    "name": "ipython",
    "version": 3
   },
   "file_extension": ".py",
   "mimetype": "text/x-python",
   "name": "python",
   "nbconvert_exporter": "python",
   "pygments_lexer": "ipython3",
   "version": "3.7.3"
  }
 },
 "nbformat": 4,
 "nbformat_minor": 1
}
