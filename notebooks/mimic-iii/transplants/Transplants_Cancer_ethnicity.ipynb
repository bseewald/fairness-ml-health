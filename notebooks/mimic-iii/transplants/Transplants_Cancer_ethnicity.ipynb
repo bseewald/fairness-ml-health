{
 "cells": [
  {
   "cell_type": "code",
   "execution_count": 1,
   "metadata": {},
   "outputs": [],
   "source": [
    "# Imports\n",
    "import pandas as pd\n",
    "import numpy as np\n",
    "import psycopg2\n",
    "import tqdm\n",
    "from time import gmtime, strftime"
   ]
  },
  {
   "cell_type": "markdown",
   "metadata": {},
   "source": [
    "#### POSTGRESQL"
   ]
  },
  {
   "cell_type": "code",
   "execution_count": 2,
   "metadata": {},
   "outputs": [],
   "source": [
    "con = psycopg2.connect(dbname ='mimic', user='postgres', password=\"*2465RMLbru\", host=\"/var/run/postgresql\")\n",
    "cur = con.cursor()"
   ]
  },
  {
   "cell_type": "markdown",
   "metadata": {
    "colab_type": "text",
    "id": "11xcgkhULsVh"
   },
   "source": [
    "### Patients table"
   ]
  },
  {
   "cell_type": "code",
   "execution_count": 3,
   "metadata": {},
   "outputs": [],
   "source": [
    "pat_query = '''SELECT * FROM mimiciii.patients;'''\n",
    "mimic_patients_df = pd.read_sql_query(pat_query, con)"
   ]
  },
  {
   "cell_type": "markdown",
   "metadata": {
    "colab_type": "text",
    "id": "5Spf4HPWLuuI"
   },
   "source": [
    "### Admission table"
   ]
  },
  {
   "cell_type": "code",
   "execution_count": 4,
   "metadata": {},
   "outputs": [],
   "source": [
    "adm_query = '''SELECT * FROM mimiciii.admissions;'''\n",
    "mimic_admission_df = pd.read_sql_query(adm_query, con)"
   ]
  },
  {
   "cell_type": "markdown",
   "metadata": {
    "colab_type": "text",
    "id": "8TV--jk7LzT5"
   },
   "source": [
    "#### Merge both tables and calculate true age"
   ]
  },
  {
   "cell_type": "code",
   "execution_count": 5,
   "metadata": {},
   "outputs": [],
   "source": [
    "# Merge patient and admission tables\n",
    "mimic_patients_admission_df = pd.merge(mimic_admission_df, mimic_patients_df, on = 'subject_id' , how = 'inner')"
   ]
  },
  {
   "cell_type": "code",
   "execution_count": 6,
   "metadata": {},
   "outputs": [],
   "source": [
    "# ADMITTIME and DOB objects to datetime\n",
    "mimic_patients_admission_df[\"admittime\"] = pd.to_datetime(mimic_patients_admission_df[\"admittime\"], format='%Y%m%d %H:%M:%S')\n",
    "mimic_patients_admission_df[\"dob\"] = pd.to_datetime(mimic_patients_admission_df[\"dob\"], format='%Y%m%d %H:%M:%S')\n",
    "\n",
    "# True age\n",
    "mimic_patients_admission_df[\"ages\"] = mimic_patients_admission_df[\"admittime\"].sub(mimic_patients_admission_df[\"dob\"]).dt.days/365.242\n",
    "\n",
    "# Adult patients only\n",
    "mimic_patients_admission_df = mimic_patients_admission_df[(mimic_patients_admission_df['ages'] >= 18)]"
   ]
  },
  {
   "cell_type": "markdown",
   "metadata": {
    "colab_type": "text",
    "id": "caV9jjjiL8To"
   },
   "source": [
    "### ICD-9 Codes table"
   ]
  },
  {
   "cell_type": "code",
   "execution_count": 7,
   "metadata": {},
   "outputs": [],
   "source": [
    "diagnoses_query = '''SELECT * FROM mimiciii.diagnoses_icd;'''\n",
    "mimic_diagnoses_df = pd.read_sql_query(diagnoses_query, con)"
   ]
  },
  {
   "cell_type": "code",
   "execution_count": 8,
   "metadata": {},
   "outputs": [],
   "source": [
    "mimic_patients_diagnoses_df = pd.merge(mimic_patients_admission_df, mimic_diagnoses_df, on = ['subject_id', 'hadm_id'], how = 'inner')"
   ]
  },
  {
   "cell_type": "markdown",
   "metadata": {
    "colab_type": "text",
    "id": "OmGkIYxsMl-3"
   },
   "source": [
    "### ICD-9 Descriptions table"
   ]
  },
  {
   "cell_type": "code",
   "execution_count": 9,
   "metadata": {},
   "outputs": [],
   "source": [
    "diagnoses_descriptions_query = '''SELECT * FROM mimiciii.d_icd_diagnoses;'''\n",
    "mimic_diagnoses_descriptions_df = pd.read_sql_query(diagnoses_descriptions_query, con)"
   ]
  },
  {
   "cell_type": "markdown",
   "metadata": {
    "colab_type": "text",
    "id": "8GJheX71MS-w"
   },
   "source": [
    "## Occurrence and Mortality"
   ]
  },
  {
   "cell_type": "markdown",
   "metadata": {
    "colab_type": "text",
    "id": "7VTv0WQYNE0Y"
   },
   "source": [
    "### By ethnicity"
   ]
  },
  {
   "cell_type": "code",
   "execution_count": 10,
   "metadata": {},
   "outputs": [],
   "source": [
    "# function by wboeg\n",
    "def normalize_ethnicity(ethnicity):\n",
    "    if 'BLACK' in ethnicity:\n",
    "        return 'BLACK'\n",
    "    if 'WHITE' in ethnicity:\n",
    "        return 'WHITE'\n",
    "    if 'ASIAN' in ethnicity:\n",
    "        return 'ASIAN'\n",
    "    if 'LATINO' in ethnicity:\n",
    "        return 'LATINO'\n",
    "    if 'HISPANIC' in ethnicity:\n",
    "        return 'LATINO'\n",
    "    if 'SOUTH AMERICAN' in ethnicity:\n",
    "        return 'LATINO'\n",
    "    if 'CARIBBEAN ISLAND' in ethnicity:\n",
    "        return 'OTHER'\n",
    "    if 'AMERICAN INDIAN' in ethnicity:\n",
    "        return 'OTHER'    \n",
    "    if 'MIDDLE EASTERN' in ethnicity:\n",
    "        return 'OTHER'\n",
    "    if 'MULTI RACE ETHNICITY' in ethnicity:\n",
    "        return 'OTHER'\n",
    "    if 'NATIVE HAWAIIAN OR OTHER PACIFIC ISLANDER' in ethnicity:\n",
    "        return 'OTHER'\n",
    "    if 'PORTUGUESE' in ethnicity:\n",
    "        return 'OTHER'       \n",
    "    return 'UNKNOWN'"
   ]
  },
  {
   "cell_type": "code",
   "execution_count": 11,
   "metadata": {},
   "outputs": [],
   "source": [
    "mimic_patients_diagnoses_df['ethnicity'] = mimic_patients_diagnoses_df['ethnicity'].apply(normalize_ethnicity)"
   ]
  },
  {
   "cell_type": "code",
   "execution_count": 44,
   "metadata": {},
   "outputs": [],
   "source": [
    "# Patients who stayed more than 6 hours\n",
    "inds_at_least_6hrs = (mimic_patients_diagnoses_df['dischtime'] - mimic_patients_diagnoses_df['admittime']) > pd.Timedelta(hours=6)\n",
    "mimic_patients_diagnoses_df = mimic_patients_diagnoses_df.loc[inds_at_least_6hrs]\n",
    "\n",
    "los = mimic_patients_diagnoses_df['dischtime'] - mimic_patients_diagnoses_df['admittime']\n",
    "mimic_patients_diagnoses_df['los'] = los.apply(lambda t:t.seconds/3600.)"
   ]
  },
  {
   "cell_type": "markdown",
   "metadata": {
    "colab_type": "text",
    "id": "U1MqVs5kM50q"
   },
   "source": [
    "#### Unique patient with multiple rows with same ICD9"
   ]
  },
  {
   "cell_type": "code",
   "execution_count": 46,
   "metadata": {},
   "outputs": [],
   "source": [
    "eth_mortality_df = mimic_patients_diagnoses_df.groupby(['icd9_code', 'ethnicity', 'hospital_expire_flag']).size().unstack()\n",
    "eth_mortality_df = eth_mortality_df.reset_index()\n",
    "eth_mortality_df.columns.names = [None]\n",
    "eth_mortality_df.columns = ['icd9_code', 'ethnicity', 'alive', 'dead']\n",
    "eth_mortality_df.insert(4, 'total', 'NULL')\n",
    "eth_mortality_df = eth_mortality_df.fillna(0)\n",
    "\n",
    "# Compute alive, dead and total\n",
    "for index, row in eth_mortality_df.iterrows():\n",
    "    eth_mortality_df.at[index, 'total'] = row['alive'] + row['dead']"
   ]
  },
  {
   "cell_type": "code",
   "execution_count": 47,
   "metadata": {},
   "outputs": [],
   "source": [
    "# We are not considering MULTI RACE ETHNICITY, UNKNOWN or OTHER \n",
    "eth_mortality_df = eth_mortality_df[(eth_mortality_df['ethnicity'] != 'OTHER') & (eth_mortality_df['ethnicity'] != 'UNKNOWN')]"
   ]
  },
  {
   "cell_type": "markdown",
   "metadata": {
    "colab_type": "text",
    "id": "W0HEn07APpup"
   },
   "source": [
    "#### Transplanted patients"
   ]
  },
  {
   "cell_type": "code",
   "execution_count": 48,
   "metadata": {},
   "outputs": [],
   "source": [
    "# merge mortality with descriptions from each ICD\n",
    "eth_mortality_df = eth_mortality_df.merge(mimic_diagnoses_descriptions_df, left_on='icd9_code', right_on='icd9_code')\n",
    "\n",
    "# Search only for patients with transplant description\n",
    "eth_mortality_df = eth_mortality_df[eth_mortality_df['long_title'].str.lower().str.contains('transplant')]"
   ]
  },
  {
   "cell_type": "code",
   "execution_count": 49,
   "metadata": {},
   "outputs": [],
   "source": [
    "# 1. Mortality significance: only +1 patients dead\n",
    "eth_mortality_df = eth_mortality_df.loc[eth_mortality_df['dead'] > 1].copy()\n",
    "\n",
    "# 2. Cases with black and white patients\n",
    "eth_mortality_df =eth_mortality_df[eth_mortality_df['ethnicity'].isin(['WHITE', 'BLACK'])]\n",
    "\n",
    "# 3. Remove ICD9 codes with only ONE ETHNICITY\n",
    "for index, row in eth_mortality_df.iterrows():\n",
    "    rows = eth_mortality_df.loc[eth_mortality_df['icd9_code'] == row['icd9_code']]\n",
    "    if (len(rows) == 1):\n",
    "        eth_mortality_df.drop(rows.index, inplace=True)"
   ]
  },
  {
   "cell_type": "code",
   "execution_count": 50,
   "metadata": {},
   "outputs": [],
   "source": [
    "eth_mortality_df = eth_mortality_df.drop(['row_id', 'short_title'], axis=1)"
   ]
  },
  {
   "cell_type": "code",
   "execution_count": 51,
   "metadata": {
    "colab": {
     "base_uri": "https://localhost:8080/",
     "height": 689
    },
    "colab_type": "code",
    "id": "10KYZ6XpaSFo",
    "outputId": "19b8af00-771e-4cb1-d7da-efb8d0d9bf7b"
   },
   "outputs": [
    {
     "data": {
      "text/html": [
       "<div>\n",
       "<style scoped>\n",
       "    .dataframe tbody tr th:only-of-type {\n",
       "        vertical-align: middle;\n",
       "    }\n",
       "\n",
       "    .dataframe tbody tr th {\n",
       "        vertical-align: top;\n",
       "    }\n",
       "\n",
       "    .dataframe thead th {\n",
       "        text-align: right;\n",
       "    }\n",
       "</style>\n",
       "<table border=\"1\" class=\"dataframe\">\n",
       "  <thead>\n",
       "    <tr style=\"text-align: right;\">\n",
       "      <th></th>\n",
       "      <th>icd9_code</th>\n",
       "      <th>ethnicity</th>\n",
       "      <th>alive</th>\n",
       "      <th>dead</th>\n",
       "      <th>total</th>\n",
       "      <th>long_title</th>\n",
       "    </tr>\n",
       "  </thead>\n",
       "  <tbody>\n",
       "    <tr>\n",
       "      <th>11136</th>\n",
       "      <td>99681</td>\n",
       "      <td>BLACK</td>\n",
       "      <td>99.0</td>\n",
       "      <td>5.0</td>\n",
       "      <td>104</td>\n",
       "      <td>Complications of transplanted kidney</td>\n",
       "    </tr>\n",
       "    <tr>\n",
       "      <th>11138</th>\n",
       "      <td>99681</td>\n",
       "      <td>WHITE</td>\n",
       "      <td>313.0</td>\n",
       "      <td>35.0</td>\n",
       "      <td>348</td>\n",
       "      <td>Complications of transplanted kidney</td>\n",
       "    </tr>\n",
       "    <tr>\n",
       "      <th>11140</th>\n",
       "      <td>99682</td>\n",
       "      <td>BLACK</td>\n",
       "      <td>14.0</td>\n",
       "      <td>4.0</td>\n",
       "      <td>18</td>\n",
       "      <td>Complications of transplanted liver</td>\n",
       "    </tr>\n",
       "    <tr>\n",
       "      <th>11142</th>\n",
       "      <td>99682</td>\n",
       "      <td>WHITE</td>\n",
       "      <td>112.0</td>\n",
       "      <td>20.0</td>\n",
       "      <td>132</td>\n",
       "      <td>Complications of transplanted liver</td>\n",
       "    </tr>\n",
       "    <tr>\n",
       "      <th>11146</th>\n",
       "      <td>99685</td>\n",
       "      <td>BLACK</td>\n",
       "      <td>7.0</td>\n",
       "      <td>2.0</td>\n",
       "      <td>9</td>\n",
       "      <td>Complications of transplanted bone marrow</td>\n",
       "    </tr>\n",
       "    <tr>\n",
       "      <th>11148</th>\n",
       "      <td>99685</td>\n",
       "      <td>WHITE</td>\n",
       "      <td>65.0</td>\n",
       "      <td>50.0</td>\n",
       "      <td>115</td>\n",
       "      <td>Complications of transplanted bone marrow</td>\n",
       "    </tr>\n",
       "    <tr>\n",
       "      <th>11636</th>\n",
       "      <td>E8780</td>\n",
       "      <td>BLACK</td>\n",
       "      <td>61.0</td>\n",
       "      <td>6.0</td>\n",
       "      <td>67</td>\n",
       "      <td>Surgical operation with transplant of whole organ causing abnormal patient reaction, or later complication, without mention of misadventure at time of operation</td>\n",
       "    </tr>\n",
       "    <tr>\n",
       "      <th>11638</th>\n",
       "      <td>E8780</td>\n",
       "      <td>WHITE</td>\n",
       "      <td>262.0</td>\n",
       "      <td>29.0</td>\n",
       "      <td>291</td>\n",
       "      <td>Surgical operation with transplant of whole organ causing abnormal patient reaction, or later complication, without mention of misadventure at time of operation</td>\n",
       "    </tr>\n",
       "    <tr>\n",
       "      <th>12669</th>\n",
       "      <td>V420</td>\n",
       "      <td>BLACK</td>\n",
       "      <td>56.0</td>\n",
       "      <td>5.0</td>\n",
       "      <td>61</td>\n",
       "      <td>Kidney replaced by transplant</td>\n",
       "    </tr>\n",
       "    <tr>\n",
       "      <th>12671</th>\n",
       "      <td>V420</td>\n",
       "      <td>WHITE</td>\n",
       "      <td>225.0</td>\n",
       "      <td>16.0</td>\n",
       "      <td>241</td>\n",
       "      <td>Kidney replaced by transplant</td>\n",
       "    </tr>\n",
       "    <tr>\n",
       "      <th>12681</th>\n",
       "      <td>V427</td>\n",
       "      <td>BLACK</td>\n",
       "      <td>5.0</td>\n",
       "      <td>2.0</td>\n",
       "      <td>7</td>\n",
       "      <td>Liver replaced by transplant</td>\n",
       "    </tr>\n",
       "    <tr>\n",
       "      <th>12683</th>\n",
       "      <td>V427</td>\n",
       "      <td>WHITE</td>\n",
       "      <td>93.0</td>\n",
       "      <td>6.0</td>\n",
       "      <td>99</td>\n",
       "      <td>Liver replaced by transplant</td>\n",
       "    </tr>\n",
       "    <tr>\n",
       "      <th>12879</th>\n",
       "      <td>V4983</td>\n",
       "      <td>BLACK</td>\n",
       "      <td>23.0</td>\n",
       "      <td>3.0</td>\n",
       "      <td>26</td>\n",
       "      <td>Awaiting organ transplant status</td>\n",
       "    </tr>\n",
       "    <tr>\n",
       "      <th>12881</th>\n",
       "      <td>V4983</td>\n",
       "      <td>WHITE</td>\n",
       "      <td>88.0</td>\n",
       "      <td>21.0</td>\n",
       "      <td>109</td>\n",
       "      <td>Awaiting organ transplant status</td>\n",
       "    </tr>\n",
       "  </tbody>\n",
       "</table>\n",
       "</div>"
      ],
      "text/plain": [
       "      icd9_code ethnicity  alive  dead total  \\\n",
       "11136     99681     BLACK   99.0   5.0   104   \n",
       "11138     99681     WHITE  313.0  35.0   348   \n",
       "11140     99682     BLACK   14.0   4.0    18   \n",
       "11142     99682     WHITE  112.0  20.0   132   \n",
       "11146     99685     BLACK    7.0   2.0     9   \n",
       "11148     99685     WHITE   65.0  50.0   115   \n",
       "11636     E8780     BLACK   61.0   6.0    67   \n",
       "11638     E8780     WHITE  262.0  29.0   291   \n",
       "12669      V420     BLACK   56.0   5.0    61   \n",
       "12671      V420     WHITE  225.0  16.0   241   \n",
       "12681      V427     BLACK    5.0   2.0     7   \n",
       "12683      V427     WHITE   93.0   6.0    99   \n",
       "12879     V4983     BLACK   23.0   3.0    26   \n",
       "12881     V4983     WHITE   88.0  21.0   109   \n",
       "\n",
       "                                                                                                                                                             long_title  \n",
       "11136                                                                                                                              Complications of transplanted kidney  \n",
       "11138                                                                                                                              Complications of transplanted kidney  \n",
       "11140                                                                                                                               Complications of transplanted liver  \n",
       "11142                                                                                                                               Complications of transplanted liver  \n",
       "11146                                                                                                                         Complications of transplanted bone marrow  \n",
       "11148                                                                                                                         Complications of transplanted bone marrow  \n",
       "11636  Surgical operation with transplant of whole organ causing abnormal patient reaction, or later complication, without mention of misadventure at time of operation  \n",
       "11638  Surgical operation with transplant of whole organ causing abnormal patient reaction, or later complication, without mention of misadventure at time of operation  \n",
       "12669                                                                                                                                     Kidney replaced by transplant  \n",
       "12671                                                                                                                                     Kidney replaced by transplant  \n",
       "12681                                                                                                                                      Liver replaced by transplant  \n",
       "12683                                                                                                                                      Liver replaced by transplant  \n",
       "12879                                                                                                                                  Awaiting organ transplant status  \n",
       "12881                                                                                                                                  Awaiting organ transplant status  "
      ]
     },
     "execution_count": 51,
     "metadata": {},
     "output_type": "execute_result"
    }
   ],
   "source": [
    "pd.set_option(\"display.max_colwidth\", 500, 'display.max_rows', 100)\n",
    "eth_mortality_df"
   ]
  },
  {
   "cell_type": "markdown",
   "metadata": {
    "colab_type": "text",
    "id": "WRhZ41HHJAM7"
   },
   "source": [
    "##### HOSPITAL ADMISSIONS FOR EACH ICD9"
   ]
  },
  {
   "cell_type": "code",
   "execution_count": 52,
   "metadata": {},
   "outputs": [],
   "source": [
    "icd9_list = set(eth_mortality_df['icd9_code'])\n",
    "\n",
    "#icd9_hadm_dict = {}\n",
    "hadm_ids_list = []\n",
    "\n",
    "# Only white and black patients and corresponding admissions\n",
    "for icd9 in icd9_list:\n",
    "    transplanted_patients_df = mimic_patients_diagnoses_df.loc[(mimic_patients_diagnoses_df[\"icd9_code\"] == icd9)]\n",
    "    hadm_ids = transplanted_patients_df['hadm_id']\n",
    "    for hadm_id in hadm_ids:\n",
    "        #icd9_hadm_dict.setdefault(icd9, []).append(hadm_id)\n",
    "        hadm_ids_list.append(hadm_id)"
   ]
  },
  {
   "cell_type": "markdown",
   "metadata": {
    "colab_type": "text",
    "id": "qj57OpsyJJXs"
   },
   "source": [
    "#### Note Events"
   ]
  },
  {
   "cell_type": "code",
   "execution_count": 53,
   "metadata": {},
   "outputs": [
    {
     "name": "stdout",
     "output_type": "stream",
     "text": [
      "2019-11-07 20:33:06\n",
      "2019-11-07 20:33:10\n"
     ]
    }
   ],
   "source": [
    "# Read Notes\n",
    "print(strftime(\"%Y-%m-%d %H:%M:%S\", gmtime()))\n",
    "\n",
    "notes_query = 'select distinct n.subject_id, n.hadm_id, n.category, n.text, n.chartdate, n.charttime \\\n",
    "from mimiciii.noteevents n  \\\n",
    "where iserror IS NULL and \\\n",
    "hadm_id in (' + ','.join(map(str, hadm_ids_list)) + ')'\n",
    "\n",
    "notes = pd.read_sql_query(notes_query, con)\n",
    "print(strftime(\"%Y-%m-%d %H:%M:%S\", gmtime()))"
   ]
  },
  {
   "cell_type": "code",
   "execution_count": 56,
   "metadata": {},
   "outputs": [
    {
     "name": "stderr",
     "output_type": "stream",
     "text": [
      "100%|██████████| 1507/1507 [00:00<00:00, 2884.57it/s]\n"
     ]
    }
   ],
   "source": [
    "# When patient did the transplant ?\n",
    "transplant_ids = []\n",
    "for hadm_id, rows in tqdm.tqdm(notes.groupby('hadm_id')):\n",
    "    for text in rows.text.values:\n",
    "        if 'surgical intensive care unit' in text.lower():\n",
    "            transplant_ids.append(hadm_id)"
   ]
  },
  {
   "cell_type": "code",
   "execution_count": 58,
   "metadata": {},
   "outputs": [
    {
     "data": {
      "text/plain": [
       "[103445,\n",
       " 103487,\n",
       " 106247,\n",
       " 106247,\n",
       " 108592,\n",
       " 111519,\n",
       " 118838,\n",
       " 122395,\n",
       " 123898,\n",
       " 125281,\n",
       " 126354,\n",
       " 127919,\n",
       " 127920,\n",
       " 128814,\n",
       " 129093,\n",
       " 132912,\n",
       " 133228,\n",
       " 140642,\n",
       " 142286,\n",
       " 143970,\n",
       " 144161,\n",
       " 144409,\n",
       " 145466,\n",
       " 146403,\n",
       " 147511,\n",
       " 148418,\n",
       " 149687,\n",
       " 152440,\n",
       " 158129,\n",
       " 159694,\n",
       " 161120,\n",
       " 168786,\n",
       " 169761,\n",
       " 170045,\n",
       " 171544,\n",
       " 172927,\n",
       " 176969,\n",
       " 176969,\n",
       " 182479,\n",
       " 185873,\n",
       " 186508,\n",
       " 187880,\n",
       " 187982,\n",
       " 189501,\n",
       " 194686]"
      ]
     },
     "execution_count": 58,
     "metadata": {},
     "output_type": "execute_result"
    }
   ],
   "source": [
    "transplant_ids"
   ]
  },
  {
   "cell_type": "code",
   "execution_count": 69,
   "metadata": {},
   "outputs": [
    {
     "data": {
      "text/html": [
       "<div>\n",
       "<style scoped>\n",
       "    .dataframe tbody tr th:only-of-type {\n",
       "        vertical-align: middle;\n",
       "    }\n",
       "\n",
       "    .dataframe tbody tr th {\n",
       "        vertical-align: top;\n",
       "    }\n",
       "\n",
       "    .dataframe thead th {\n",
       "        text-align: right;\n",
       "    }\n",
       "</style>\n",
       "<table border=\"1\" class=\"dataframe\">\n",
       "  <thead>\n",
       "    <tr style=\"text-align: right;\">\n",
       "      <th></th>\n",
       "      <th>row_id_x</th>\n",
       "      <th>subject_id</th>\n",
       "      <th>hadm_id</th>\n",
       "      <th>admittime</th>\n",
       "      <th>dischtime</th>\n",
       "      <th>deathtime</th>\n",
       "      <th>admission_type</th>\n",
       "      <th>admission_location</th>\n",
       "      <th>discharge_location</th>\n",
       "      <th>insurance</th>\n",
       "      <th>...</th>\n",
       "      <th>dob</th>\n",
       "      <th>dod</th>\n",
       "      <th>dod_hosp</th>\n",
       "      <th>dod_ssn</th>\n",
       "      <th>expire_flag</th>\n",
       "      <th>ages</th>\n",
       "      <th>row_id</th>\n",
       "      <th>seq_num</th>\n",
       "      <th>icd9_code</th>\n",
       "      <th>los</th>\n",
       "    </tr>\n",
       "  </thead>\n",
       "  <tbody>\n",
       "    <tr>\n",
       "      <th>140745</th>\n",
       "      <td>18533</td>\n",
       "      <td>15160</td>\n",
       "      <td>128814</td>\n",
       "      <td>2106-04-26 23:08:00</td>\n",
       "      <td>2106-05-03 14:13:00</td>\n",
       "      <td>NaT</td>\n",
       "      <td>EMERGENCY</td>\n",
       "      <td>PHYS REFERRAL/NORMAL DELI</td>\n",
       "      <td>HOME</td>\n",
       "      <td>Private</td>\n",
       "      <td>...</td>\n",
       "      <td>2059-05-09</td>\n",
       "      <td>NaT</td>\n",
       "      <td>NaT</td>\n",
       "      <td>NaT</td>\n",
       "      <td>0</td>\n",
       "      <td>46.963383</td>\n",
       "      <td>169144</td>\n",
       "      <td>1.0</td>\n",
       "      <td>25061</td>\n",
       "      <td>15.083333</td>\n",
       "    </tr>\n",
       "    <tr>\n",
       "      <th>140746</th>\n",
       "      <td>18533</td>\n",
       "      <td>15160</td>\n",
       "      <td>128814</td>\n",
       "      <td>2106-04-26 23:08:00</td>\n",
       "      <td>2106-05-03 14:13:00</td>\n",
       "      <td>NaT</td>\n",
       "      <td>EMERGENCY</td>\n",
       "      <td>PHYS REFERRAL/NORMAL DELI</td>\n",
       "      <td>HOME</td>\n",
       "      <td>Private</td>\n",
       "      <td>...</td>\n",
       "      <td>2059-05-09</td>\n",
       "      <td>NaT</td>\n",
       "      <td>NaT</td>\n",
       "      <td>NaT</td>\n",
       "      <td>0</td>\n",
       "      <td>46.963383</td>\n",
       "      <td>169145</td>\n",
       "      <td>2.0</td>\n",
       "      <td>3572</td>\n",
       "      <td>15.083333</td>\n",
       "    </tr>\n",
       "    <tr>\n",
       "      <th>140747</th>\n",
       "      <td>18533</td>\n",
       "      <td>15160</td>\n",
       "      <td>128814</td>\n",
       "      <td>2106-04-26 23:08:00</td>\n",
       "      <td>2106-05-03 14:13:00</td>\n",
       "      <td>NaT</td>\n",
       "      <td>EMERGENCY</td>\n",
       "      <td>PHYS REFERRAL/NORMAL DELI</td>\n",
       "      <td>HOME</td>\n",
       "      <td>Private</td>\n",
       "      <td>...</td>\n",
       "      <td>2059-05-09</td>\n",
       "      <td>NaT</td>\n",
       "      <td>NaT</td>\n",
       "      <td>NaT</td>\n",
       "      <td>0</td>\n",
       "      <td>46.963383</td>\n",
       "      <td>169146</td>\n",
       "      <td>3.0</td>\n",
       "      <td>25051</td>\n",
       "      <td>15.083333</td>\n",
       "    </tr>\n",
       "    <tr>\n",
       "      <th>140748</th>\n",
       "      <td>18533</td>\n",
       "      <td>15160</td>\n",
       "      <td>128814</td>\n",
       "      <td>2106-04-26 23:08:00</td>\n",
       "      <td>2106-05-03 14:13:00</td>\n",
       "      <td>NaT</td>\n",
       "      <td>EMERGENCY</td>\n",
       "      <td>PHYS REFERRAL/NORMAL DELI</td>\n",
       "      <td>HOME</td>\n",
       "      <td>Private</td>\n",
       "      <td>...</td>\n",
       "      <td>2059-05-09</td>\n",
       "      <td>NaT</td>\n",
       "      <td>NaT</td>\n",
       "      <td>NaT</td>\n",
       "      <td>0</td>\n",
       "      <td>46.963383</td>\n",
       "      <td>169147</td>\n",
       "      <td>4.0</td>\n",
       "      <td>36201</td>\n",
       "      <td>15.083333</td>\n",
       "    </tr>\n",
       "    <tr>\n",
       "      <th>140749</th>\n",
       "      <td>18533</td>\n",
       "      <td>15160</td>\n",
       "      <td>128814</td>\n",
       "      <td>2106-04-26 23:08:00</td>\n",
       "      <td>2106-05-03 14:13:00</td>\n",
       "      <td>NaT</td>\n",
       "      <td>EMERGENCY</td>\n",
       "      <td>PHYS REFERRAL/NORMAL DELI</td>\n",
       "      <td>HOME</td>\n",
       "      <td>Private</td>\n",
       "      <td>...</td>\n",
       "      <td>2059-05-09</td>\n",
       "      <td>NaT</td>\n",
       "      <td>NaT</td>\n",
       "      <td>NaT</td>\n",
       "      <td>0</td>\n",
       "      <td>46.963383</td>\n",
       "      <td>169148</td>\n",
       "      <td>5.0</td>\n",
       "      <td>V420</td>\n",
       "      <td>15.083333</td>\n",
       "    </tr>\n",
       "    <tr>\n",
       "      <th>140750</th>\n",
       "      <td>18534</td>\n",
       "      <td>15160</td>\n",
       "      <td>121104</td>\n",
       "      <td>2106-07-15 21:18:00</td>\n",
       "      <td>2106-08-16 15:46:00</td>\n",
       "      <td>NaT</td>\n",
       "      <td>EMERGENCY</td>\n",
       "      <td>EMERGENCY ROOM ADMIT</td>\n",
       "      <td>REHAB/DISTINCT PART HOSP</td>\n",
       "      <td>Private</td>\n",
       "      <td>...</td>\n",
       "      <td>2059-05-09</td>\n",
       "      <td>NaT</td>\n",
       "      <td>NaT</td>\n",
       "      <td>NaT</td>\n",
       "      <td>0</td>\n",
       "      <td>47.182416</td>\n",
       "      <td>169135</td>\n",
       "      <td>1.0</td>\n",
       "      <td>9974</td>\n",
       "      <td>18.466667</td>\n",
       "    </tr>\n",
       "    <tr>\n",
       "      <th>140751</th>\n",
       "      <td>18534</td>\n",
       "      <td>15160</td>\n",
       "      <td>121104</td>\n",
       "      <td>2106-07-15 21:18:00</td>\n",
       "      <td>2106-08-16 15:46:00</td>\n",
       "      <td>NaT</td>\n",
       "      <td>EMERGENCY</td>\n",
       "      <td>EMERGENCY ROOM ADMIT</td>\n",
       "      <td>REHAB/DISTINCT PART HOSP</td>\n",
       "      <td>Private</td>\n",
       "      <td>...</td>\n",
       "      <td>2059-05-09</td>\n",
       "      <td>NaT</td>\n",
       "      <td>NaT</td>\n",
       "      <td>NaT</td>\n",
       "      <td>0</td>\n",
       "      <td>47.182416</td>\n",
       "      <td>169136</td>\n",
       "      <td>2.0</td>\n",
       "      <td>5609</td>\n",
       "      <td>18.466667</td>\n",
       "    </tr>\n",
       "    <tr>\n",
       "      <th>140752</th>\n",
       "      <td>18534</td>\n",
       "      <td>15160</td>\n",
       "      <td>121104</td>\n",
       "      <td>2106-07-15 21:18:00</td>\n",
       "      <td>2106-08-16 15:46:00</td>\n",
       "      <td>NaT</td>\n",
       "      <td>EMERGENCY</td>\n",
       "      <td>EMERGENCY ROOM ADMIT</td>\n",
       "      <td>REHAB/DISTINCT PART HOSP</td>\n",
       "      <td>Private</td>\n",
       "      <td>...</td>\n",
       "      <td>2059-05-09</td>\n",
       "      <td>NaT</td>\n",
       "      <td>NaT</td>\n",
       "      <td>NaT</td>\n",
       "      <td>0</td>\n",
       "      <td>47.182416</td>\n",
       "      <td>169137</td>\n",
       "      <td>3.0</td>\n",
       "      <td>431</td>\n",
       "      <td>18.466667</td>\n",
       "    </tr>\n",
       "    <tr>\n",
       "      <th>140753</th>\n",
       "      <td>18534</td>\n",
       "      <td>15160</td>\n",
       "      <td>121104</td>\n",
       "      <td>2106-07-15 21:18:00</td>\n",
       "      <td>2106-08-16 15:46:00</td>\n",
       "      <td>NaT</td>\n",
       "      <td>EMERGENCY</td>\n",
       "      <td>EMERGENCY ROOM ADMIT</td>\n",
       "      <td>REHAB/DISTINCT PART HOSP</td>\n",
       "      <td>Private</td>\n",
       "      <td>...</td>\n",
       "      <td>2059-05-09</td>\n",
       "      <td>NaT</td>\n",
       "      <td>NaT</td>\n",
       "      <td>NaT</td>\n",
       "      <td>0</td>\n",
       "      <td>47.182416</td>\n",
       "      <td>169138</td>\n",
       "      <td>4.0</td>\n",
       "      <td>99859</td>\n",
       "      <td>18.466667</td>\n",
       "    </tr>\n",
       "    <tr>\n",
       "      <th>140754</th>\n",
       "      <td>18534</td>\n",
       "      <td>15160</td>\n",
       "      <td>121104</td>\n",
       "      <td>2106-07-15 21:18:00</td>\n",
       "      <td>2106-08-16 15:46:00</td>\n",
       "      <td>NaT</td>\n",
       "      <td>EMERGENCY</td>\n",
       "      <td>EMERGENCY ROOM ADMIT</td>\n",
       "      <td>REHAB/DISTINCT PART HOSP</td>\n",
       "      <td>Private</td>\n",
       "      <td>...</td>\n",
       "      <td>2059-05-09</td>\n",
       "      <td>NaT</td>\n",
       "      <td>NaT</td>\n",
       "      <td>NaT</td>\n",
       "      <td>0</td>\n",
       "      <td>47.182416</td>\n",
       "      <td>169139</td>\n",
       "      <td>5.0</td>\n",
       "      <td>2639</td>\n",
       "      <td>18.466667</td>\n",
       "    </tr>\n",
       "    <tr>\n",
       "      <th>140755</th>\n",
       "      <td>18534</td>\n",
       "      <td>15160</td>\n",
       "      <td>121104</td>\n",
       "      <td>2106-07-15 21:18:00</td>\n",
       "      <td>2106-08-16 15:46:00</td>\n",
       "      <td>NaT</td>\n",
       "      <td>EMERGENCY</td>\n",
       "      <td>EMERGENCY ROOM ADMIT</td>\n",
       "      <td>REHAB/DISTINCT PART HOSP</td>\n",
       "      <td>Private</td>\n",
       "      <td>...</td>\n",
       "      <td>2059-05-09</td>\n",
       "      <td>NaT</td>\n",
       "      <td>NaT</td>\n",
       "      <td>NaT</td>\n",
       "      <td>0</td>\n",
       "      <td>47.182416</td>\n",
       "      <td>169140</td>\n",
       "      <td>6.0</td>\n",
       "      <td>4538</td>\n",
       "      <td>18.466667</td>\n",
       "    </tr>\n",
       "    <tr>\n",
       "      <th>140756</th>\n",
       "      <td>18534</td>\n",
       "      <td>15160</td>\n",
       "      <td>121104</td>\n",
       "      <td>2106-07-15 21:18:00</td>\n",
       "      <td>2106-08-16 15:46:00</td>\n",
       "      <td>NaT</td>\n",
       "      <td>EMERGENCY</td>\n",
       "      <td>EMERGENCY ROOM ADMIT</td>\n",
       "      <td>REHAB/DISTINCT PART HOSP</td>\n",
       "      <td>Private</td>\n",
       "      <td>...</td>\n",
       "      <td>2059-05-09</td>\n",
       "      <td>NaT</td>\n",
       "      <td>NaT</td>\n",
       "      <td>NaT</td>\n",
       "      <td>0</td>\n",
       "      <td>47.182416</td>\n",
       "      <td>169141</td>\n",
       "      <td>7.0</td>\n",
       "      <td>5990</td>\n",
       "      <td>18.466667</td>\n",
       "    </tr>\n",
       "    <tr>\n",
       "      <th>140757</th>\n",
       "      <td>18534</td>\n",
       "      <td>15160</td>\n",
       "      <td>121104</td>\n",
       "      <td>2106-07-15 21:18:00</td>\n",
       "      <td>2106-08-16 15:46:00</td>\n",
       "      <td>NaT</td>\n",
       "      <td>EMERGENCY</td>\n",
       "      <td>EMERGENCY ROOM ADMIT</td>\n",
       "      <td>REHAB/DISTINCT PART HOSP</td>\n",
       "      <td>Private</td>\n",
       "      <td>...</td>\n",
       "      <td>2059-05-09</td>\n",
       "      <td>NaT</td>\n",
       "      <td>NaT</td>\n",
       "      <td>NaT</td>\n",
       "      <td>0</td>\n",
       "      <td>47.182416</td>\n",
       "      <td>169142</td>\n",
       "      <td>8.0</td>\n",
       "      <td>2880</td>\n",
       "      <td>18.466667</td>\n",
       "    </tr>\n",
       "    <tr>\n",
       "      <th>140758</th>\n",
       "      <td>18534</td>\n",
       "      <td>15160</td>\n",
       "      <td>121104</td>\n",
       "      <td>2106-07-15 21:18:00</td>\n",
       "      <td>2106-08-16 15:46:00</td>\n",
       "      <td>NaT</td>\n",
       "      <td>EMERGENCY</td>\n",
       "      <td>EMERGENCY ROOM ADMIT</td>\n",
       "      <td>REHAB/DISTINCT PART HOSP</td>\n",
       "      <td>Private</td>\n",
       "      <td>...</td>\n",
       "      <td>2059-05-09</td>\n",
       "      <td>NaT</td>\n",
       "      <td>NaT</td>\n",
       "      <td>NaT</td>\n",
       "      <td>0</td>\n",
       "      <td>47.182416</td>\n",
       "      <td>169143</td>\n",
       "      <td>9.0</td>\n",
       "      <td>25061</td>\n",
       "      <td>18.466667</td>\n",
       "    </tr>\n",
       "  </tbody>\n",
       "</table>\n",
       "<p>14 rows × 31 columns</p>\n",
       "</div>"
      ],
      "text/plain": [
       "        row_id_x  subject_id  hadm_id           admittime           dischtime  \\\n",
       "140745     18533       15160   128814 2106-04-26 23:08:00 2106-05-03 14:13:00   \n",
       "140746     18533       15160   128814 2106-04-26 23:08:00 2106-05-03 14:13:00   \n",
       "140747     18533       15160   128814 2106-04-26 23:08:00 2106-05-03 14:13:00   \n",
       "140748     18533       15160   128814 2106-04-26 23:08:00 2106-05-03 14:13:00   \n",
       "140749     18533       15160   128814 2106-04-26 23:08:00 2106-05-03 14:13:00   \n",
       "140750     18534       15160   121104 2106-07-15 21:18:00 2106-08-16 15:46:00   \n",
       "140751     18534       15160   121104 2106-07-15 21:18:00 2106-08-16 15:46:00   \n",
       "140752     18534       15160   121104 2106-07-15 21:18:00 2106-08-16 15:46:00   \n",
       "140753     18534       15160   121104 2106-07-15 21:18:00 2106-08-16 15:46:00   \n",
       "140754     18534       15160   121104 2106-07-15 21:18:00 2106-08-16 15:46:00   \n",
       "140755     18534       15160   121104 2106-07-15 21:18:00 2106-08-16 15:46:00   \n",
       "140756     18534       15160   121104 2106-07-15 21:18:00 2106-08-16 15:46:00   \n",
       "140757     18534       15160   121104 2106-07-15 21:18:00 2106-08-16 15:46:00   \n",
       "140758     18534       15160   121104 2106-07-15 21:18:00 2106-08-16 15:46:00   \n",
       "\n",
       "       deathtime admission_type         admission_location  \\\n",
       "140745       NaT      EMERGENCY  PHYS REFERRAL/NORMAL DELI   \n",
       "140746       NaT      EMERGENCY  PHYS REFERRAL/NORMAL DELI   \n",
       "140747       NaT      EMERGENCY  PHYS REFERRAL/NORMAL DELI   \n",
       "140748       NaT      EMERGENCY  PHYS REFERRAL/NORMAL DELI   \n",
       "140749       NaT      EMERGENCY  PHYS REFERRAL/NORMAL DELI   \n",
       "140750       NaT      EMERGENCY       EMERGENCY ROOM ADMIT   \n",
       "140751       NaT      EMERGENCY       EMERGENCY ROOM ADMIT   \n",
       "140752       NaT      EMERGENCY       EMERGENCY ROOM ADMIT   \n",
       "140753       NaT      EMERGENCY       EMERGENCY ROOM ADMIT   \n",
       "140754       NaT      EMERGENCY       EMERGENCY ROOM ADMIT   \n",
       "140755       NaT      EMERGENCY       EMERGENCY ROOM ADMIT   \n",
       "140756       NaT      EMERGENCY       EMERGENCY ROOM ADMIT   \n",
       "140757       NaT      EMERGENCY       EMERGENCY ROOM ADMIT   \n",
       "140758       NaT      EMERGENCY       EMERGENCY ROOM ADMIT   \n",
       "\n",
       "              discharge_location insurance  ...        dob dod dod_hosp  \\\n",
       "140745                      HOME   Private  ... 2059-05-09 NaT      NaT   \n",
       "140746                      HOME   Private  ... 2059-05-09 NaT      NaT   \n",
       "140747                      HOME   Private  ... 2059-05-09 NaT      NaT   \n",
       "140748                      HOME   Private  ... 2059-05-09 NaT      NaT   \n",
       "140749                      HOME   Private  ... 2059-05-09 NaT      NaT   \n",
       "140750  REHAB/DISTINCT PART HOSP   Private  ... 2059-05-09 NaT      NaT   \n",
       "140751  REHAB/DISTINCT PART HOSP   Private  ... 2059-05-09 NaT      NaT   \n",
       "140752  REHAB/DISTINCT PART HOSP   Private  ... 2059-05-09 NaT      NaT   \n",
       "140753  REHAB/DISTINCT PART HOSP   Private  ... 2059-05-09 NaT      NaT   \n",
       "140754  REHAB/DISTINCT PART HOSP   Private  ... 2059-05-09 NaT      NaT   \n",
       "140755  REHAB/DISTINCT PART HOSP   Private  ... 2059-05-09 NaT      NaT   \n",
       "140756  REHAB/DISTINCT PART HOSP   Private  ... 2059-05-09 NaT      NaT   \n",
       "140757  REHAB/DISTINCT PART HOSP   Private  ... 2059-05-09 NaT      NaT   \n",
       "140758  REHAB/DISTINCT PART HOSP   Private  ... 2059-05-09 NaT      NaT   \n",
       "\n",
       "       dod_ssn expire_flag       ages  row_id  seq_num  icd9_code        los  \n",
       "140745     NaT           0  46.963383  169144      1.0      25061  15.083333  \n",
       "140746     NaT           0  46.963383  169145      2.0       3572  15.083333  \n",
       "140747     NaT           0  46.963383  169146      3.0      25051  15.083333  \n",
       "140748     NaT           0  46.963383  169147      4.0      36201  15.083333  \n",
       "140749     NaT           0  46.963383  169148      5.0       V420  15.083333  \n",
       "140750     NaT           0  47.182416  169135      1.0       9974  18.466667  \n",
       "140751     NaT           0  47.182416  169136      2.0       5609  18.466667  \n",
       "140752     NaT           0  47.182416  169137      3.0        431  18.466667  \n",
       "140753     NaT           0  47.182416  169138      4.0      99859  18.466667  \n",
       "140754     NaT           0  47.182416  169139      5.0       2639  18.466667  \n",
       "140755     NaT           0  47.182416  169140      6.0       4538  18.466667  \n",
       "140756     NaT           0  47.182416  169141      7.0       5990  18.466667  \n",
       "140757     NaT           0  47.182416  169142      8.0       2880  18.466667  \n",
       "140758     NaT           0  47.182416  169143      9.0      25061  18.466667  \n",
       "\n",
       "[14 rows x 31 columns]"
      ]
     },
     "execution_count": 69,
     "metadata": {},
     "output_type": "execute_result"
    }
   ],
   "source": [
    "pd.set_option(\"display.max_colwidth\", 10000)\n",
    "mimic_patients_diagnoses_df.loc[(mimic_patients_diagnoses_df['subject_id'] == 15160)]"
   ]
  },
  {
   "cell_type": "code",
   "execution_count": 71,
   "metadata": {},
   "outputs": [
    {
     "data": {
      "text/html": [
       "<div>\n",
       "<style scoped>\n",
       "    .dataframe tbody tr th:only-of-type {\n",
       "        vertical-align: middle;\n",
       "    }\n",
       "\n",
       "    .dataframe tbody tr th {\n",
       "        vertical-align: top;\n",
       "    }\n",
       "\n",
       "    .dataframe thead th {\n",
       "        text-align: right;\n",
       "    }\n",
       "</style>\n",
       "<table border=\"1\" class=\"dataframe\">\n",
       "  <thead>\n",
       "    <tr style=\"text-align: right;\">\n",
       "      <th></th>\n",
       "      <th>subject_id</th>\n",
       "      <th>hadm_id</th>\n",
       "      <th>category</th>\n",
       "      <th>text</th>\n",
       "      <th>chartdate</th>\n",
       "      <th>charttime</th>\n",
       "    </tr>\n",
       "  </thead>\n",
       "  <tbody>\n",
       "    <tr>\n",
       "      <th>17211</th>\n",
       "      <td>15160</td>\n",
       "      <td>128814</td>\n",
       "      <td>Discharge summary</td>\n",
       "      <td>Admission Date:  [**2106-4-26**]     Discharge Date:  [**2106-5-3**]\\n\\nDate of Birth:   [**2059-5-9**]     Sex:  F\\n\\nService:  TRANSPLANT\\n\\nHISTORY OF PRESENT ILLNESS:  Patient is a 46-year-old white\\nfemale with history of insulin dependent diabetes times 24\\nyears, status post living related kidney transplant in\\n[**2101-11-28**] and was doing well, however, patient's blood\\nsugar was very difficult to control and patient was\\nsubsequently listed for a pancreas transplant.  Patient's\\nbaseline creatinine is 1.5 and on [**2106-4-26**], a pancreas\\nbecame available and patient was subsequently admitted for a\\nelective pancreatic transplant.\\n\\nPAST MEDICAL HISTORY:  Significant for insulin dependent\\ndiabetes, no history of hypertension, no history of cardiac\\ndisease.  Patient has a history of dermatomyositis.  Also has\\na history of diabetic neuropathy.\\n\\nPAST SURGICAL HISTORY:  Significant for a renal transplant in\\n[**2100**].\\n\\nALLERGIES:  Patient is allergic to sulfa drugs.\\n\\nMEDICATIONS:  NPH 24 units q.a.m., prednisone 2.5 mg q.d.,\\nPrograf 3 mg b.i.d., multivitamins and Tums.\\n\\nPHYSICAL EXAMINATION ON ADMISSION:  Patient is afebrile.  Her\\nvital signs were stable.  Her head, eyes, ears, nose and\\nthroat examination was within normal limits.  Her chest was\\nclear to auscultation bilaterally.  Heart with S1, S2\\npresent, regular rate and rhythm, no murmurs, rubs or\\ngallops.  Abdomen soft, nontender, nondistended, positive\\nbowel sounds.  Patient has a right groin incision that is\\nwell-healed and patient has warm extremities with palpable\\ndistal pulses.\\n\\nLABORATORIES:  On admission, her white blood cell count was\\n6.6, hematocrit 33.8, platelets 275,000.  PT 12.6, PTT is\\n24.2, INR 1.1.  Her electrolytes were sodium of 141,\\npotassium 4.5, chloride 108, bicarbonate 26, BUN 25,\\ncreatinine 1.4, blood sugar of 94.\\n\\nHOSPITAL COURSE:  The patient was taken to the Operating Room\\non [**2106-4-26**] and underwent a pancreas transplant.\\nSurgeon was Dr. [**Last Name (STitle) **].  Estimated blood loss was 650, no\\ncomplications intraoperatively and patient was transferred to\\nthe Surgical Intensive Care Unit for observation\\npostoperatively.  In the Surgical Intensive Care Unit,\\npatient was started on a dopamine drip at 2 mg/kg/minute.\\nOther than that patient was doing well.  Patient's pain was\\ncompletely controlled with morphine PCA and patient was\\nstarted on Unasyn postoperatively.  Patient was also on\\nganciclovir postoperatively.  Patient was also started on a\\nSolu-Medrol taper.  She received 500 mg intraoperatively, 250\\nmg on postoperative day one, 125 mg on postoperative day two\\nand 100 mg on postoperative day three, then 60 mg the next\\nday, 40 mg the day after and 20 mg of prednisone thereafter.\\nThe rest of the patient's stay in the Intensive Care Unit was\\nuneventful.  Patient was transferred out of the Intensive\\nCare Unit on postoperative day three in stable condition.\\nPatient was weaned off her dopamine drip.\\n\\nOn the floor, patient was doing well.  Patient's blood sugar\\nwas under control and on postoperative day seven patient was\\ntolerating a regular diet and was ready for discharge home.\\nPatient will be discharged home on the following medications.\\nPatient will be on prednisone 20 mg q.d., aspirin, Protonix\\n40 mg q.d., valganciclovir 450 mg q.d., Reglan 10 mg, Colace\\n100 mg b.i.d., Rapamune 5 mg q.d. and Prograf 5 mg b.i.d.\\n\\nPatient is being discharged in stable condition.\\n\\nDISCHARGE DIAGNOSIS:  Status post pancreas transplant.\\n\\nFOLLOW-UP:  Patient has been advised to follow-up with Dr.\\n[**Last Name (STitle) **] on a weekly basis.  Her next appointment will be\\nThursday of this week, [**2106-5-6**].  Patient has been given\\nher prescriptions for her medications.  Patient will also, in\\naddition to her previous mentioned medications, be given a\\nPercocet prescription for pain control.\\n\\n\\n\\n                          [**First Name4 (NamePattern1) **] [**Last Name (NamePattern1) 3598**], MD  [**MD Number(1) 3599**]\\n\\nDictated By:[**Name8 (MD) 20292**]\\n\\nMEDQUIST36\\n\\nD:  [**2106-5-3**]  20:40\\nT:  [**2106-5-3**]  20:40\\nJOB#:  [**Job Number 30035**]\\n</td>\n",
       "      <td>2106-05-03</td>\n",
       "      <td>NaT</td>\n",
       "    </tr>\n",
       "  </tbody>\n",
       "</table>\n",
       "</div>"
      ],
      "text/plain": [
       "       subject_id  hadm_id           category  \\\n",
       "17211       15160   128814  Discharge summary   \n",
       "\n",
       "                                                                                                                                                                                                                                                                                                                                                                                                                                                                                                                                                                                                                                                                                                                                                                                                                                                                                                                                                                                                                                                                                                                                                                                                                                                                                                                                                                                                                                                                                                                                                                                                                                                                                                                                                                                                                                                                                                                                                                                                                                                                                                                                                                                                                                                                                                                                                                                                                                                                                                                                                                                                                                                                                                                                                                                                                                                                                                                                                                                                                                                                                                                                                                                                                                                                                                                                                                                                                                                                                                                                                                                                                                                                                                                                                                                                                                                                                                                                                                                                                                                                                                                                                                                                                                                                                                                                                    text  \\\n",
       "17211  Admission Date:  [**2106-4-26**]     Discharge Date:  [**2106-5-3**]\\n\\nDate of Birth:   [**2059-5-9**]     Sex:  F\\n\\nService:  TRANSPLANT\\n\\nHISTORY OF PRESENT ILLNESS:  Patient is a 46-year-old white\\nfemale with history of insulin dependent diabetes times 24\\nyears, status post living related kidney transplant in\\n[**2101-11-28**] and was doing well, however, patient's blood\\nsugar was very difficult to control and patient was\\nsubsequently listed for a pancreas transplant.  Patient's\\nbaseline creatinine is 1.5 and on [**2106-4-26**], a pancreas\\nbecame available and patient was subsequently admitted for a\\nelective pancreatic transplant.\\n\\nPAST MEDICAL HISTORY:  Significant for insulin dependent\\ndiabetes, no history of hypertension, no history of cardiac\\ndisease.  Patient has a history of dermatomyositis.  Also has\\na history of diabetic neuropathy.\\n\\nPAST SURGICAL HISTORY:  Significant for a renal transplant in\\n[**2100**].\\n\\nALLERGIES:  Patient is allergic to sulfa drugs.\\n\\nMEDICATIONS:  NPH 24 units q.a.m., prednisone 2.5 mg q.d.,\\nPrograf 3 mg b.i.d., multivitamins and Tums.\\n\\nPHYSICAL EXAMINATION ON ADMISSION:  Patient is afebrile.  Her\\nvital signs were stable.  Her head, eyes, ears, nose and\\nthroat examination was within normal limits.  Her chest was\\nclear to auscultation bilaterally.  Heart with S1, S2\\npresent, regular rate and rhythm, no murmurs, rubs or\\ngallops.  Abdomen soft, nontender, nondistended, positive\\nbowel sounds.  Patient has a right groin incision that is\\nwell-healed and patient has warm extremities with palpable\\ndistal pulses.\\n\\nLABORATORIES:  On admission, her white blood cell count was\\n6.6, hematocrit 33.8, platelets 275,000.  PT 12.6, PTT is\\n24.2, INR 1.1.  Her electrolytes were sodium of 141,\\npotassium 4.5, chloride 108, bicarbonate 26, BUN 25,\\ncreatinine 1.4, blood sugar of 94.\\n\\nHOSPITAL COURSE:  The patient was taken to the Operating Room\\non [**2106-4-26**] and underwent a pancreas transplant.\\nSurgeon was Dr. [**Last Name (STitle) **].  Estimated blood loss was 650, no\\ncomplications intraoperatively and patient was transferred to\\nthe Surgical Intensive Care Unit for observation\\npostoperatively.  In the Surgical Intensive Care Unit,\\npatient was started on a dopamine drip at 2 mg/kg/minute.\\nOther than that patient was doing well.  Patient's pain was\\ncompletely controlled with morphine PCA and patient was\\nstarted on Unasyn postoperatively.  Patient was also on\\nganciclovir postoperatively.  Patient was also started on a\\nSolu-Medrol taper.  She received 500 mg intraoperatively, 250\\nmg on postoperative day one, 125 mg on postoperative day two\\nand 100 mg on postoperative day three, then 60 mg the next\\nday, 40 mg the day after and 20 mg of prednisone thereafter.\\nThe rest of the patient's stay in the Intensive Care Unit was\\nuneventful.  Patient was transferred out of the Intensive\\nCare Unit on postoperative day three in stable condition.\\nPatient was weaned off her dopamine drip.\\n\\nOn the floor, patient was doing well.  Patient's blood sugar\\nwas under control and on postoperative day seven patient was\\ntolerating a regular diet and was ready for discharge home.\\nPatient will be discharged home on the following medications.\\nPatient will be on prednisone 20 mg q.d., aspirin, Protonix\\n40 mg q.d., valganciclovir 450 mg q.d., Reglan 10 mg, Colace\\n100 mg b.i.d., Rapamune 5 mg q.d. and Prograf 5 mg b.i.d.\\n\\nPatient is being discharged in stable condition.\\n\\nDISCHARGE DIAGNOSIS:  Status post pancreas transplant.\\n\\nFOLLOW-UP:  Patient has been advised to follow-up with Dr.\\n[**Last Name (STitle) **] on a weekly basis.  Her next appointment will be\\nThursday of this week, [**2106-5-6**].  Patient has been given\\nher prescriptions for her medications.  Patient will also, in\\naddition to her previous mentioned medications, be given a\\nPercocet prescription for pain control.\\n\\n\\n\\n                          [**First Name4 (NamePattern1) **] [**Last Name (NamePattern1) 3598**], MD  [**MD Number(1) 3599**]\\n\\nDictated By:[**Name8 (MD) 20292**]\\n\\nMEDQUIST36\\n\\nD:  [**2106-5-3**]  20:40\\nT:  [**2106-5-3**]  20:40\\nJOB#:  [**Job Number 30035**]\\n   \n",
       "\n",
       "       chartdate charttime  \n",
       "17211 2106-05-03       NaT  "
      ]
     },
     "execution_count": 71,
     "metadata": {},
     "output_type": "execute_result"
    }
   ],
   "source": [
    "notes.loc[(notes['hadm_id'] == 128814) & (notes['category'] == 'Discharge summary')]"
   ]
  },
  {
   "cell_type": "code",
   "execution_count": null,
   "metadata": {},
   "outputs": [],
   "source": [
    "# make sure each hadm_id has only died once\n",
    "assert len(eol_cohort) == len(set(eol_cohort['hadm_id'].values))\n",
    "print 'eol subjects:', len(set(eol_cohort['hadm_id'].values))"
   ]
  },
  {
   "cell_type": "markdown",
   "metadata": {
    "colab_type": "text",
    "id": "JXwUmYy4ELWF"
   },
   "source": [
    "#### Cancer"
   ]
  },
  {
   "cell_type": "code",
   "execution_count": null,
   "metadata": {
    "colab": {},
    "colab_type": "code",
    "id": "oaUCwZx69Esu"
   },
   "outputs": [],
   "source": [
    "searchfor = ['neoplasm', 'neoplasms', 'sarcoma', 'carcinoma']\n",
    "mortality_cancer_df = eth_mortality_merged_df[eth_mortality_merged_df['long_title'].str.lower().str.contains('|'.join(searchfor))]"
   ]
  },
  {
   "cell_type": "code",
   "execution_count": null,
   "metadata": {
    "colab": {},
    "colab_type": "code",
    "id": "pO_gf3SVEUfs"
   },
   "outputs": [],
   "source": [
    "# 1. Mortality significance: only +1 patients dead\n",
    "cancer_df = mortality_cancer_df.loc[mortality_cancer_df['dead'] > 1].copy()\n",
    "\n",
    "# 2. Remove ICD9 codes with only ONE ETHNICITY\n",
    "for index, row in cancer_df.iterrows():\n",
    "  rows = cancer_df.loc[cancer_df['icd9_code'] == row['icd9_code']]\n",
    "  if (len(rows) == 1):\n",
    "    cancer_df.drop(rows.index, inplace=True)"
   ]
  },
  {
   "cell_type": "code",
   "execution_count": null,
   "metadata": {
    "colab": {},
    "colab_type": "code",
    "id": "k_bsk1jJEUfy"
   },
   "outputs": [],
   "source": [
    "cancer_df = cancer_df.drop(['row_id', 'short_title'], axis=1)"
   ]
  },
  {
   "cell_type": "code",
   "execution_count": null,
   "metadata": {
    "colab": {
     "base_uri": "https://localhost:8080/",
     "height": 111
    },
    "colab_type": "code",
    "id": "F4mL9P0uEkac",
    "outputId": "e97e842b-fddb-4d02-9d46-9b92b7a7ebe0"
   },
   "outputs": [],
   "source": [
    "# Breast cancer\n",
    "cancer_df[cancer_df['icd9_code'].str.lower().str.contains(r'^174.*')]"
   ]
  },
  {
   "cell_type": "code",
   "execution_count": null,
   "metadata": {
    "colab": {
     "base_uri": "https://localhost:8080/",
     "height": 111
    },
    "colab_type": "code",
    "id": "BR0eHgDXUvIO",
    "outputId": "e421b276-906a-481a-b879-b00f1d9b0211"
   },
   "outputs": [],
   "source": [
    "#  Prostate cancer\n",
    "cancer_df[cancer_df['icd9_code'].str.lower().str.contains(r'^185.*')]"
   ]
  },
  {
   "cell_type": "code",
   "execution_count": null,
   "metadata": {
    "colab": {
     "base_uri": "https://localhost:8080/",
     "height": 1000
    },
    "colab_type": "code",
    "id": "xpKgcpI0YAfS",
    "outputId": "e62dad72-4691-4944-eaad-fdebb8a2ebe0"
   },
   "outputs": [],
   "source": [
    "pd.set_option(\"display.max_colwidth\", 500, 'display.max_rows', 200)\n",
    "\n",
    "# Malignant Neoplasm Of Other And Unspecified Sites\n",
    "cancer_df[cancer_df['icd9_code'].str.lower().str.contains(r'^19.*')]"
   ]
  }
 ],
 "metadata": {
  "colab": {
   "collapsed_sections": [
    "JXwUmYy4ELWF"
   ],
   "name": "Transplants-Cancer: ethnicity.ipynb",
   "provenance": []
  },
  "kernelspec": {
   "display_name": "Python 3",
   "language": "python",
   "name": "python3"
  },
  "language_info": {
   "codemirror_mode": {
    "name": "ipython",
    "version": 3
   },
   "file_extension": ".py",
   "mimetype": "text/x-python",
   "name": "python",
   "nbconvert_exporter": "python",
   "pygments_lexer": "ipython3",
   "version": "3.7.3"
  }
 },
 "nbformat": 4,
 "nbformat_minor": 1
}
