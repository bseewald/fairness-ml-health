{
 "cells": [
  {
   "cell_type": "code",
   "execution_count": 31,
   "metadata": {},
   "outputs": [],
   "source": [
    "# Imports\n",
    "import pandas as pd\n",
    "import numpy as np\n",
    "import psycopg2\n",
    "import time\n",
    "from time import gmtime, strftime"
   ]
  },
  {
   "cell_type": "code",
   "execution_count": 2,
   "metadata": {},
   "outputs": [],
   "source": [
    "# Visualization\n",
    "import matplotlib.pyplot as plt\n",
    "import matplotlib.ticker as mtick\n",
    "import matplotlib.font_manager\n",
    "import seaborn as sns\n",
    "\n",
    "%matplotlib inline"
   ]
  },
  {
   "cell_type": "code",
   "execution_count": 3,
   "metadata": {},
   "outputs": [],
   "source": [
    "plt.style.use('ggplot')\n",
    "\n",
    "plt.rcParams['font.sans-serif'] = 'Arial'\n",
    "plt.rcParams['font.family'] = 'sans-serif'\n",
    "plt.rcParams['text.color'] = '#505050'\n",
    "plt.rcParams['axes.labelcolor']= '#505050'\n",
    "plt.rcParams['xtick.color'] = '#505050'\n",
    "plt.rcParams['ytick.color'] = '#505050'\n",
    "plt.rcParams['font.size']= 11"
   ]
  },
  {
   "cell_type": "code",
   "execution_count": 4,
   "metadata": {},
   "outputs": [],
   "source": [
    "def countplot_frequency(df, column_name, title, order=None):\n",
    "    ax = sns.countplot(x=column_name, data=df, order=order)\n",
    "    plt.title(title)\n",
    "\n",
    "    # Make twin axis\n",
    "    ax2 = ax.twinx()\n",
    "\n",
    "    # Switch so count axis is on right, frequency on left\n",
    "    ax2.yaxis.tick_left()\n",
    "    ax.yaxis.tick_right()\n",
    "\n",
    "    # Also switch the labels over\n",
    "    ax.yaxis.set_label_position('right')\n",
    "    ax2.yaxis.set_label_position('left')\n",
    "\n",
    "    ax2.set_ylabel('Frequency [%]')\n",
    "\n",
    "    ncount = len(df)\n",
    "    for p in ax.patches:\n",
    "        x = p.get_bbox().get_points()[:,0]\n",
    "        y = p.get_bbox().get_points()[1,1]\n",
    "        ax.annotate('{:.2f}%'.format(100.*y/ncount), (x.mean(), y), ha='center', va='bottom') # set the alignment of the text\n",
    "\n",
    "    # Use a LinearLocator to ensure the correct number of ticks\n",
    "    ax.yaxis.set_major_locator(mtick.LinearLocator(11))\n",
    "\n",
    "    # Fix the frequency range to 0-100\n",
    "    ax2.set_ylim(0, 100)\n",
    "    ax.set_ylim(0, ncount)\n",
    "\n",
    "    # And use a MultipleLocator to ensure a tick spacing of 10\n",
    "    ax2.yaxis.set_major_locator(mtick.MultipleLocator(10))\n",
    "\n",
    "    # Need to turn the grid on ax2 off, otherwise the gridlines end up on top of the bars\n",
    "    ax2.grid(None)\n",
    "    return ax, ax2"
   ]
  },
  {
   "cell_type": "markdown",
   "metadata": {},
   "source": [
    "### POSTGRESQL"
   ]
  },
  {
   "cell_type": "code",
   "execution_count": 5,
   "metadata": {},
   "outputs": [],
   "source": [
    "# Notebook\n",
    "host = '/tmp'\n",
    "\n",
    "# Locus\n",
    "# host = '/var/run/postgresql'\n",
    "\n",
    "con = psycopg2.connect(dbname ='mimic', user='postgres', password=\"*2465RMLbru\", host=host)\n",
    "cur = con.cursor()"
   ]
  },
  {
   "cell_type": "markdown",
   "metadata": {},
   "source": [
    "### ICD-9 Codes table"
   ]
  },
  {
   "cell_type": "code",
   "execution_count": 6,
   "metadata": {},
   "outputs": [],
   "source": [
    "diagnoses_query = '''SELECT * FROM mimiciii.diagnoses_icd;'''\n",
    "mimic_diagnoses_df = pd.read_sql_query(diagnoses_query, con)"
   ]
  },
  {
   "cell_type": "markdown",
   "metadata": {},
   "source": [
    "### ICD-9 Descriptions table"
   ]
  },
  {
   "cell_type": "code",
   "execution_count": 7,
   "metadata": {},
   "outputs": [],
   "source": [
    "diagnoses_descriptions_query = '''SELECT * FROM mimiciii.d_icd_diagnoses;'''\n",
    "mimic_diagnoses_descriptions_df = pd.read_sql_query(diagnoses_descriptions_query, con)"
   ]
  },
  {
   "cell_type": "markdown",
   "metadata": {},
   "source": [
    "### ICU Stays (patients details)\n",
    "\n",
    "link:\n",
    "https://github.com/MIT-LCP/mimic-code/blob/master/tutorials/cohort-selection.ipynb\n",
    "\n",
    "\"As MIMIC-III is primarily an intensive care unit (ICU) database, the focus will be on patients admitted to and discharged from the ICU. That is, rather than selecting our cohort based off the individual patient (identified by subject_id in the database), we will usually want to select our cohort based off the ICU stay (identified by icustay_id). Thus, it is sensible to begin with the icustays table.\""
   ]
  },
  {
   "cell_type": "code",
   "execution_count": 8,
   "metadata": {},
   "outputs": [],
   "source": [
    "icustay_query = 'SELECT * FROM mimiciii.icustay_detail_v2;' \n",
    "icustay_details_df = pd.read_sql_query(icustay_query, con)"
   ]
  },
  {
   "cell_type": "code",
   "execution_count": 9,
   "metadata": {},
   "outputs": [],
   "source": [
    "def normalize_insurance(ins):\n",
    "    if ins in ['Government', 'Medicaid', 'Medicare']:\n",
    "        return 'Public'\n",
    "    elif ins == 'Private':\n",
    "        return 'Private'\n",
    "    else:\n",
    "        return 'Self-Pay'\n",
    "    \n",
    "# We are not considering MULTI RACE ETHNICITY, NATIVE, UNKNOWN or OTHER \n",
    "icustay_details_df = icustay_details_df[(icustay_details_df['ethnicity_grouped'] != 'other') & (icustay_details_df['ethnicity_grouped'] != 'unknown') & (icustay_details_df['ethnicity_grouped'] != 'native')]\n",
    "\n",
    "# +18 years old (300 years old are patients older than 89)\n",
    "icustay_details_df = icustay_details_df[(icustay_details_df['age'] >= 18) & (icustay_details_df['age'] < 300)]\n",
    "\n",
    "# insurance\n",
    "icustay_details_df['insurance'] = icustay_details_df['insurance'].apply(normalize_insurance)\n",
    "\n",
    "# icd9 merge\n",
    "icu_diagnoses_df = pd.merge(icustay_details_df, mimic_diagnoses_df, on = ['subject_id', 'hadm_id'], how = 'inner')"
   ]
  },
  {
   "cell_type": "code",
   "execution_count": 10,
   "metadata": {},
   "outputs": [],
   "source": [
    "eth_mortality_df = icu_diagnoses_df.groupby(['icd9_code', 'ethnicity_grouped', 'hospital_expire_flag']).size().unstack()\n",
    "eth_mortality_df = eth_mortality_df.reset_index()\n",
    "eth_mortality_df.columns.names = [None]\n",
    "eth_mortality_df.columns = ['icd9_code', 'ethnicity', 'alive', 'dead']\n",
    "eth_mortality_df.insert(4, 'total', '0')\n",
    "eth_mortality_df = eth_mortality_df.fillna(0)\n",
    "eth_mortality_df['total'] = eth_mortality_df['total'].astype(float)\n",
    "\n",
    "# Compute alive, dead and total\n",
    "for index, row in eth_mortality_df.iterrows():\n",
    "    eth_mortality_df.at[index, 'total'] = row['alive'] + row['dead']"
   ]
  },
  {
   "cell_type": "code",
   "execution_count": 11,
   "metadata": {},
   "outputs": [],
   "source": [
    "# merge mortality with descriptions from each ICD\n",
    "eth_mortality_df = eth_mortality_df.merge(mimic_diagnoses_descriptions_df, left_on='icd9_code', right_on='icd9_code')"
   ]
  },
  {
   "cell_type": "markdown",
   "metadata": {},
   "source": [
    "#### Transplanted patients"
   ]
  },
  {
   "cell_type": "code",
   "execution_count": 12,
   "metadata": {},
   "outputs": [],
   "source": [
    "# Search only for patients with transplant description\n",
    "transplanted_patients_df = eth_mortality_df[eth_mortality_df['long_title'].str.lower().str.contains('transplant')].copy()\n",
    "\n",
    "# 1. Mortality significance: only +1 patients dead\n",
    "transplanted_patients_df = transplanted_patients_df.loc[eth_mortality_df['dead'] > 1]\n",
    "\n",
    "# 2. Remove ICD9 codes with only ONE ETHNICITY\n",
    "for index, row in transplanted_patients_df.iterrows():\n",
    "    rows = transplanted_patients_df.loc[transplanted_patients_df['icd9_code'] == row['icd9_code']]\n",
    "    if (len(rows) == 1):\n",
    "        transplanted_patients_df.drop(rows.index, inplace=True)\n",
    "        \n",
    "transplanted_patients_df = transplanted_patients_df.drop(['row_id', 'short_title'], axis=1)"
   ]
  },
  {
   "cell_type": "markdown",
   "metadata": {},
   "source": [
    "#### Cancer"
   ]
  },
  {
   "cell_type": "code",
   "execution_count": 13,
   "metadata": {},
   "outputs": [],
   "source": [
    "searchfor = ['neoplasm', 'neoplasms', 'sarcoma', 'carcinoma']\n",
    "cancer_patients_df = eth_mortality_df[eth_mortality_df['long_title'].str.lower().str.contains('|'.join(searchfor))].copy()\n",
    "\n",
    "# 1. Mortality significance: only +1 patients dead\n",
    "cancer_patients_df = cancer_patients_df.loc[cancer_patients_df['dead'] > 1]\n",
    "\n",
    "# 2. Remove ICD9 codes with only ONE ETHNICITY\n",
    "for index, row in cancer_patients_df.iterrows():\n",
    "    rows = cancer_patients_df.loc[cancer_patients_df['icd9_code'] == row['icd9_code']]\n",
    "    if (len(rows) == 1):\n",
    "        cancer_patients_df.drop(rows.index, inplace=True)\n",
    "        \n",
    "cancer_patients_df = cancer_patients_df.drop(['row_id', 'short_title'], axis=1)\n"
   ]
  },
  {
   "cell_type": "markdown",
   "metadata": {},
   "source": [
    "#### Diabetes"
   ]
  },
  {
   "cell_type": "code",
   "execution_count": 14,
   "metadata": {},
   "outputs": [],
   "source": [
    "diabetes_patients_df = eth_mortality_df[eth_mortality_df['long_title'].str.lower().str.contains('diabetes')].copy()\n",
    "\n",
    "# 1. Mortality significance: only +1 patients dead\n",
    "diabetes_patients_df = diabetes_patients_df.loc[diabetes_patients_df['dead'] > 1]\n",
    "\n",
    "# 2. Remove ICD9 codes with only ONE ETHNICITY\n",
    "for index, row in diabetes_patients_df.iterrows():\n",
    "    rows = diabetes_patients_df.loc[diabetes_patients_df['icd9_code'] == row['icd9_code']]\n",
    "    if (len(rows) == 1):\n",
    "        diabetes_patients_df.drop(rows.index, inplace=True)\n",
    "        \n",
    "diabetes_patients_df = diabetes_patients_df.drop(['row_id', 'short_title'], axis=1)"
   ]
  },
  {
   "cell_type": "markdown",
   "metadata": {},
   "source": [
    "#### Select admissions"
   ]
  },
  {
   "cell_type": "code",
   "execution_count": 15,
   "metadata": {},
   "outputs": [],
   "source": [
    "icd9_list = set(transplanted_patients_df['icd9_code'])\n",
    "icd9_list.update(cancer_patients_df['icd9_code'])\n",
    "icd9_list.update(diabetes_patients_df['icd9_code'])\n",
    "\n",
    "hadm_ids_list = set()\n",
    "\n",
    "for icd9 in icd9_list:    \n",
    "    patients = icu_diagnoses_df.loc[(icu_diagnoses_df[\"icd9_code\"] == icd9)].copy()\n",
    "    for hadm_id in patients['hadm_id']:\n",
    "        hadm_ids_list.add(hadm_id)"
   ]
  },
  {
   "cell_type": "markdown",
   "metadata": {},
   "source": [
    "### Oasis score\n",
    "\n",
    "Oxford Acute Severity of Illness Score (OASIS)\n",
    "- This score is a measure of severity of illness for patients in the ICU.\n",
    "- The score is calculated on the first day of each ICU patients' stay.\n",
    "\n",
    "Variables used in OASIS:\n",
    "-  Heart rate, GCS, MAP, Temperature, Respiratory rate, Ventilation status (sourced from CHARTEVENTS)\n",
    "-  Urine output (sourced from OUTPUTEVENTS)\n",
    "-  Elective surgery (sourced from ADMISSIONS and SERVICES)\n",
    "-  Pre-ICU in-hospital length of stay (sourced from ADMISSIONS and ICUSTAYS)\n",
    "-  Age (sourced from PATIENTS)"
   ]
  },
  {
   "cell_type": "code",
   "execution_count": 16,
   "metadata": {},
   "outputs": [],
   "source": [
    "# Get the OASIS scores (ONLY IF PATIENT WAS ADMITTED TO THE ICU(intensive care unit))\n",
    "oasis_query = 'SELECT distinct hadm_id, max(oasis) as oasis FROM mimiciii.oasis GROUP BY hadm_id'\n",
    "oasis_df = pd.read_sql_query(oasis_query, con)"
   ]
  },
  {
   "cell_type": "code",
   "execution_count": 37,
   "metadata": {},
   "outputs": [],
   "source": [
    "# Scores\n",
    "# Low: 0-32\n",
    "# Medium: 33-40\n",
    "# High: 41+\n",
    "def select(scores):\n",
    "    low, medium, high = [], [], []\n",
    "    for hadm_id in hadm_ids_list:\n",
    "        if scores[hadm_id] < 33:\n",
    "            low.append(hadm_id)\n",
    "        elif scores[hadm_id] < 41:\n",
    "            medium.append(hadm_id)\n",
    "        else:\n",
    "            high.append(hadm_id)\n",
    "    return low, medium, high\n",
    "\n",
    "oasis_scores = dict(oasis_df[['hadm_id','oasis']].values)\n",
    "pat_oasis_score_low, pat_oasis_score_medium, pat_oasis_score_high = select(oasis_scores)"
   ]
  },
  {
   "cell_type": "code",
   "execution_count": 38,
   "metadata": {},
   "outputs": [
    {
     "name": "stdout",
     "output_type": "stream",
     "text": [
      "9737 4613 2807\n"
     ]
    }
   ],
   "source": [
    "print(len(pat_oasis_score_low), len(pat_oasis_score_medium), len(pat_oasis_score_high))"
   ]
  },
  {
   "cell_type": "markdown",
   "metadata": {},
   "source": [
    "### Cohort"
   ]
  },
  {
   "cell_type": "code",
   "execution_count": 32,
   "metadata": {},
   "outputs": [
    {
     "name": "stdout",
     "output_type": "stream",
     "text": [
      "2019-11-20 18:57:1574287051\n",
      "2019-11-20 19:03:1574287405\n"
     ]
    }
   ],
   "source": [
    "print(time.strftime(\"%Y-%m-%d %H:%M:%s\"))\n",
    "\n",
    "cohort_low_df = pd.DataFrame()\n",
    "cohort_medium_df = pd.DataFrame()\n",
    "cohort_high_df = pd.DataFrame()\n",
    "\n",
    "for hid in pat_oasis_score_low:\n",
    "    patients = icu_diagnoses_df.loc[(icu_diagnoses_df[\"hadm_id\"] == hid)].copy()\n",
    "    cohort_low_df = cohort_low_df.append(patients, ignore_index=True)\n",
    "    \n",
    "for hid in pat_oasis_score_medium:\n",
    "    patients = icu_diagnoses_df.loc[(icu_diagnoses_df[\"hadm_id\"] == hid)].copy()\n",
    "    cohort_medium_df = cohort_medium_df.append(patients, ignore_index=True)\n",
    "    \n",
    "for hid in pat_oasis_score_high:\n",
    "    patients = icu_diagnoses_df.loc[(icu_diagnoses_df[\"hadm_id\"] == hid)].copy()\n",
    "    cohort_high_df = cohort_high_df.append(patients, ignore_index=True)\n",
    "\n",
    "print(time.strftime(\"%Y-%m-%d %H:%M:%s\"))"
   ]
  },
  {
   "cell_type": "code",
   "execution_count": 34,
   "metadata": {},
   "outputs": [],
   "source": [
    "# REMOVE: same admission multiple times for different ICD9\n",
    "cohort_low_df.drop_duplicates(subset='hadm_id', keep='last', inplace=True)\n",
    "cohort_medium_df.drop_duplicates(subset='hadm_id', keep='last', inplace=True)\n",
    "cohort_high_df.drop_duplicates(subset='hadm_id', keep='last', inplace=True)"
   ]
  },
  {
   "cell_type": "markdown",
   "metadata": {},
   "source": [
    "### MIMIC III Population characteristics"
   ]
  },
  {
   "cell_type": "code",
   "execution_count": 35,
   "metadata": {},
   "outputs": [
    {
     "data": {
      "text/html": [
       "<div>\n",
       "<style scoped>\n",
       "    .dataframe tbody tr th:only-of-type {\n",
       "        vertical-align: middle;\n",
       "    }\n",
       "\n",
       "    .dataframe tbody tr th {\n",
       "        vertical-align: top;\n",
       "    }\n",
       "\n",
       "    .dataframe thead tr th {\n",
       "        text-align: left;\n",
       "    }\n",
       "\n",
       "    .dataframe thead tr:last-of-type th {\n",
       "        text-align: right;\n",
       "    }\n",
       "</style>\n",
       "<table border=\"1\" class=\"dataframe\">\n",
       "  <thead>\n",
       "    <tr>\n",
       "      <th></th>\n",
       "      <th></th>\n",
       "      <th colspan=\"4\" halign=\"left\">Grouped by Ethnicity</th>\n",
       "    </tr>\n",
       "    <tr>\n",
       "      <th></th>\n",
       "      <th></th>\n",
       "      <th>asian</th>\n",
       "      <th>black</th>\n",
       "      <th>hispanic</th>\n",
       "      <th>white</th>\n",
       "    </tr>\n",
       "    <tr>\n",
       "      <th>variable</th>\n",
       "      <th>level</th>\n",
       "      <th></th>\n",
       "      <th></th>\n",
       "      <th></th>\n",
       "      <th></th>\n",
       "    </tr>\n",
       "  </thead>\n",
       "  <tbody>\n",
       "    <tr>\n",
       "      <th>n</th>\n",
       "      <th></th>\n",
       "      <td>145</td>\n",
       "      <td>593</td>\n",
       "      <td>188</td>\n",
       "      <td>3687</td>\n",
       "    </tr>\n",
       "    <tr>\n",
       "      <th rowspan=\"2\" valign=\"top\">Gender</th>\n",
       "      <th>F</th>\n",
       "      <td>54 (37.2)</td>\n",
       "      <td>339 (57.2)</td>\n",
       "      <td>79 (42.0)</td>\n",
       "      <td>1606 (43.6)</td>\n",
       "    </tr>\n",
       "    <tr>\n",
       "      <th>M</th>\n",
       "      <td>91 (62.8)</td>\n",
       "      <td>254 (42.8)</td>\n",
       "      <td>109 (58.0)</td>\n",
       "      <td>2081 (56.4)</td>\n",
       "    </tr>\n",
       "    <tr>\n",
       "      <th rowspan=\"3\" valign=\"top\">Insurance</th>\n",
       "      <th>Private</th>\n",
       "      <td>28 (19.3)</td>\n",
       "      <td>109 (18.4)</td>\n",
       "      <td>35 (18.6)</td>\n",
       "      <td>891 (24.2)</td>\n",
       "    </tr>\n",
       "    <tr>\n",
       "      <th>Public</th>\n",
       "      <td>117 (80.7)</td>\n",
       "      <td>481 (81.1)</td>\n",
       "      <td>153 (81.4)</td>\n",
       "      <td>2791 (75.7)</td>\n",
       "    </tr>\n",
       "    <tr>\n",
       "      <th>Self-Pay</th>\n",
       "      <td></td>\n",
       "      <td>3 (0.5)</td>\n",
       "      <td></td>\n",
       "      <td>5 (0.1)</td>\n",
       "    </tr>\n",
       "    <tr>\n",
       "      <th>Length of Stay</th>\n",
       "      <th></th>\n",
       "      <td>9.6 [4.9,15.8]</td>\n",
       "      <td>7.6 [4.3,12.1]</td>\n",
       "      <td>8.6 [4.9,13.8]</td>\n",
       "      <td>8.5 [5.3,14.3]</td>\n",
       "    </tr>\n",
       "    <tr>\n",
       "      <th>Age</th>\n",
       "      <th></th>\n",
       "      <td>69.3 [59.0,78.5]</td>\n",
       "      <td>65.2 [57.1,74.0]</td>\n",
       "      <td>62.3 [51.1,71.0]</td>\n",
       "      <td>71.0 [61.1,79.6]</td>\n",
       "    </tr>\n",
       "  </tbody>\n",
       "</table>\n",
       "</div><br />[1] Warning, Tukey test indicates far outliers in: los_hospital.<br />[2] Warning, test for normality reports non-normal distributions for: age, los_hospital.<br />"
      ],
      "text/plain": [
       "                        Grouped by Ethnicity                                                      \n",
       "                                       asian             black          hispanic             white\n",
       "variable       level                                                                              \n",
       "n                                        145               593               188              3687\n",
       "Gender         F                   54 (37.2)        339 (57.2)         79 (42.0)       1606 (43.6)\n",
       "               M                   91 (62.8)        254 (42.8)        109 (58.0)       2081 (56.4)\n",
       "Insurance      Private             28 (19.3)        109 (18.4)         35 (18.6)        891 (24.2)\n",
       "               Public             117 (80.7)        481 (81.1)        153 (81.4)       2791 (75.7)\n",
       "               Self-Pay                                3 (0.5)                             5 (0.1)\n",
       "Length of Stay                9.6 [4.9,15.8]    7.6 [4.3,12.1]    8.6 [4.9,13.8]    8.5 [5.3,14.3]\n",
       "Age                         69.3 [59.0,78.5]  65.2 [57.1,74.0]  62.3 [51.1,71.0]  71.0 [61.1,79.6]\n",
       "[1] Warning, Tukey test indicates far outliers in: los_hospital.\n",
       "[2] Warning, test for normality reports non-normal distributions for: age, los_hospital."
      ]
     },
     "execution_count": 35,
     "metadata": {},
     "output_type": "execute_result"
    }
   ],
   "source": [
    "# Pollard TJ, Johnson AEW, Raffa JD, Mark RG (2018). tableone: An open source\n",
    "# Python package for producing summary statistics for research papers.\n",
    "# JAMIA Open, Volume 1, Issue 1, 1 July 2018, Pages 26-31.\n",
    "# https://doi.org/10.1093/jamiaopen/ooy012\n",
    "    \n",
    "# Table One\n",
    "from tableone import TableOne\n",
    "\n",
    "# optionally, a categorical variable for stratification\n",
    "groupby = ['ethnicity_grouped']\n",
    "\n",
    "# columns to be summarized\n",
    "columns = ['gender', 'insurance','los_hospital', 'age'] \n",
    "\n",
    "# columns containing categorical variables\n",
    "categorical = ['gender', 'insurance']\n",
    "\n",
    "# non-normal variables\n",
    "nonnormal = ['age', 'los_hospital']\n",
    "\n",
    "# alternative labels\n",
    "labels={'los_hospital': 'Length of Stay', 'age': 'Age', 'ethnicity_grouped':'Ethnicity',\n",
    "        'gender':'Gender', 'insurance':'Insurance'}\n",
    "\n",
    "# combine all information\n",
    "grouped_medium_df = cohort_medium_df\n",
    "grouped_high_df = cohort_high_df\n",
    "\n",
    "# create an instance of TableOne with the input arguments\n",
    "grouped_medium_table = TableOne(grouped_medium_df, columns, categorical, groupby, nonnormal, rename=labels, isnull=False)\n",
    "grouped_high_table = TableOne(grouped_high_df, columns, categorical, groupby, nonnormal, rename=labels, isnull=False)\n",
    "\n",
    "# view tableone\n",
    "grouped_medium_table"
   ]
  },
  {
   "cell_type": "code",
   "execution_count": 36,
   "metadata": {},
   "outputs": [
    {
     "data": {
      "text/html": [
       "<div>\n",
       "<style scoped>\n",
       "    .dataframe tbody tr th:only-of-type {\n",
       "        vertical-align: middle;\n",
       "    }\n",
       "\n",
       "    .dataframe tbody tr th {\n",
       "        vertical-align: top;\n",
       "    }\n",
       "\n",
       "    .dataframe thead tr th {\n",
       "        text-align: left;\n",
       "    }\n",
       "\n",
       "    .dataframe thead tr:last-of-type th {\n",
       "        text-align: right;\n",
       "    }\n",
       "</style>\n",
       "<table border=\"1\" class=\"dataframe\">\n",
       "  <thead>\n",
       "    <tr>\n",
       "      <th></th>\n",
       "      <th></th>\n",
       "      <th colspan=\"4\" halign=\"left\">Grouped by Ethnicity</th>\n",
       "    </tr>\n",
       "    <tr>\n",
       "      <th></th>\n",
       "      <th></th>\n",
       "      <th>asian</th>\n",
       "      <th>black</th>\n",
       "      <th>hispanic</th>\n",
       "      <th>white</th>\n",
       "    </tr>\n",
       "    <tr>\n",
       "      <th>variable</th>\n",
       "      <th>level</th>\n",
       "      <th></th>\n",
       "      <th></th>\n",
       "      <th></th>\n",
       "      <th></th>\n",
       "    </tr>\n",
       "  </thead>\n",
       "  <tbody>\n",
       "    <tr>\n",
       "      <th>n</th>\n",
       "      <th></th>\n",
       "      <td>81</td>\n",
       "      <td>403</td>\n",
       "      <td>97</td>\n",
       "      <td>2226</td>\n",
       "    </tr>\n",
       "    <tr>\n",
       "      <th rowspan=\"2\" valign=\"top\">Gender</th>\n",
       "      <th>F</th>\n",
       "      <td>31 (38.3)</td>\n",
       "      <td>250 (62.0)</td>\n",
       "      <td>39 (40.2)</td>\n",
       "      <td>1001 (45.0)</td>\n",
       "    </tr>\n",
       "    <tr>\n",
       "      <th>M</th>\n",
       "      <td>50 (61.7)</td>\n",
       "      <td>153 (38.0)</td>\n",
       "      <td>58 (59.8)</td>\n",
       "      <td>1225 (55.0)</td>\n",
       "    </tr>\n",
       "    <tr>\n",
       "      <th rowspan=\"3\" valign=\"top\">Insurance</th>\n",
       "      <th>Private</th>\n",
       "      <td>13 (16.0)</td>\n",
       "      <td>64 (15.9)</td>\n",
       "      <td>16 (16.5)</td>\n",
       "      <td>468 (21.0)</td>\n",
       "    </tr>\n",
       "    <tr>\n",
       "      <th>Public</th>\n",
       "      <td>68 (84.0)</td>\n",
       "      <td>338 (83.9)</td>\n",
       "      <td>79 (81.4)</td>\n",
       "      <td>1749 (78.6)</td>\n",
       "    </tr>\n",
       "    <tr>\n",
       "      <th>Self-Pay</th>\n",
       "      <td></td>\n",
       "      <td>1 (0.2)</td>\n",
       "      <td>2 (2.1)</td>\n",
       "      <td>9 (0.4)</td>\n",
       "    </tr>\n",
       "    <tr>\n",
       "      <th>Length of Stay</th>\n",
       "      <th></th>\n",
       "      <td>7.7 [3.0,15.9]</td>\n",
       "      <td>9.6 [5.1,18.0]</td>\n",
       "      <td>9.9 [4.6,19.5]</td>\n",
       "      <td>9.1 [4.9,16.7]</td>\n",
       "    </tr>\n",
       "    <tr>\n",
       "      <th>Age</th>\n",
       "      <th></th>\n",
       "      <td>77.0 [66.1,81.1]</td>\n",
       "      <td>69.7 [60.2,78.5]</td>\n",
       "      <td>65.0 [54.9,78.3]</td>\n",
       "      <td>74.3 [63.3,81.8]</td>\n",
       "    </tr>\n",
       "  </tbody>\n",
       "</table>\n",
       "</div><br />[1] Warning, Hartigan's Dip Test reports possible multimodal distributions for: los_hospital.<br />[2] Warning, Tukey test indicates far outliers in: los_hospital.<br />[3] Warning, test for normality reports non-normal distributions for: age, los_hospital.<br />"
      ],
      "text/plain": [
       "                        Grouped by Ethnicity                                                      \n",
       "                                       asian             black          hispanic             white\n",
       "variable       level                                                                              \n",
       "n                                         81               403                97              2226\n",
       "Gender         F                   31 (38.3)        250 (62.0)         39 (40.2)       1001 (45.0)\n",
       "               M                   50 (61.7)        153 (38.0)         58 (59.8)       1225 (55.0)\n",
       "Insurance      Private             13 (16.0)         64 (15.9)         16 (16.5)        468 (21.0)\n",
       "               Public              68 (84.0)        338 (83.9)         79 (81.4)       1749 (78.6)\n",
       "               Self-Pay                                1 (0.2)           2 (2.1)           9 (0.4)\n",
       "Length of Stay                7.7 [3.0,15.9]    9.6 [5.1,18.0]    9.9 [4.6,19.5]    9.1 [4.9,16.7]\n",
       "Age                         77.0 [66.1,81.1]  69.7 [60.2,78.5]  65.0 [54.9,78.3]  74.3 [63.3,81.8]\n",
       "[1] Warning, Hartigan's Dip Test reports possible multimodal distributions for: los_hospital.\n",
       "[2] Warning, Tukey test indicates far outliers in: los_hospital.\n",
       "[3] Warning, test for normality reports non-normal distributions for: age, los_hospital."
      ]
     },
     "execution_count": 36,
     "metadata": {},
     "output_type": "execute_result"
    }
   ],
   "source": [
    "# view tableone\n",
    "grouped_high_table"
   ]
  },
  {
   "cell_type": "code",
   "execution_count": 39,
   "metadata": {},
   "outputs": [
    {
     "data": {
      "text/plain": [
       "array([<matplotlib.axes._subplots.AxesSubplot object at 0x1a261fab38>,\n",
       "       <matplotlib.axes._subplots.AxesSubplot object at 0x1a25664748>],\n",
       "      dtype=object)"
      ]
     },
     "execution_count": 39,
     "metadata": {},
     "output_type": "execute_result"
    },
    {
     "data": {
      "image/png": "[encoded data removed]",
      "text/plain": [
       "<Figure size 720x360 with 2 Axes>"
      ]
     },
     "metadata": {},
     "output_type": "display_data"
    }
   ],
   "source": [
    "# Total (by gender)\n",
    "cohort_high_df.hist(column='age', by='gender', bins=20, color='#271087', zorder=2, rwidth=0.8, figsize=(10, 5))\n",
    "\n",
    "# cohort_medium_df.hist(column='age', by='gender', bins=20, color='#271087', zorder=2, rwidth=0.8, figsize=(10, 5))"
   ]
  },
  {
   "cell_type": "code",
   "execution_count": 40,
   "metadata": {},
   "outputs": [
    {
     "data": {
      "text/plain": [
       "(<matplotlib.axes._subplots.AxesSubplot at 0x1a24b11a58>,\n",
       " <matplotlib.axes._subplots.AxesSubplot at 0x1a23fa8e48>)"
      ]
     },
     "execution_count": 40,
     "metadata": {},
     "output_type": "execute_result"
    },
    {
     "data": {
      "image/png": "[encoded data removed]",
      "text/plain": [
       "<Figure size 432x288 with 2 Axes>"
      ]
     },
     "metadata": {},
     "output_type": "display_data"
    }
   ],
   "source": [
    "# Total (by insurance)\n",
    "countplot_frequency(cohort_high_df, 'insurance', 'Adults patients only')\n",
    "\n",
    "# countplot_frequency(cohort_medium_df, 'insurance', 'Adults patients only')"
   ]
  },
  {
   "cell_type": "code",
   "execution_count": 41,
   "metadata": {},
   "outputs": [
    {
     "data": {
      "text/plain": [
       "Text(0, 0.5, 'Density')"
      ]
     },
     "execution_count": 41,
     "metadata": {},
     "output_type": "execute_result"
    },
    {
     "data": {
      "image/png": "[encoded data removed]",
      "text/plain": [
       "<Figure size 432x288 with 1 Axes>"
      ]
     },
     "metadata": {},
     "output_type": "display_data"
    }
   ],
   "source": [
    "# Insurance by age\n",
    "cohort_high_df.groupby('insurance')['age'].plot(kind='density')\n",
    "\n",
    "# cohort_medium_df.groupby('insurance')['age'].plot(kind='density')\n",
    "\n",
    "plt.legend(prop={'size': 14}, title = 'Insurance', frameon=False, bbox_to_anchor=(1.5, 0.8))\n",
    "plt.title('Density plot with multiple insurances')\n",
    "plt.xlabel('Age')\n",
    "plt.ylabel('Density')"
   ]
  },
  {
   "cell_type": "code",
   "execution_count": 42,
   "metadata": {},
   "outputs": [
    {
     "data": {
      "text/plain": [
       "Text(0, 0.5, '# patients')"
      ]
     },
     "execution_count": 42,
     "metadata": {},
     "output_type": "execute_result"
    },
    {
     "data": {
      "image/png": "[encoded data removed]",
      "text/plain": [
       "<Figure size 720x360 with 1 Axes>"
      ]
     },
     "metadata": {},
     "output_type": "display_data"
    }
   ],
   "source": [
    "# Lenght of stay\n",
    "cohort_high_df.hist(column='los_hospital', bins=20, color='#271087', grid=True, zorder=2, rwidth=0.8, figsize=(10, 5))\n",
    "\n",
    "# cohort_medium_df.hist(column='los_hospital', bins=20, color='#271087', grid=True, zorder=2, rwidth=0.8, figsize=(10, 5))\n",
    "\n",
    "plt.yscale('log')\n",
    "plt.title('Lenght of stay')\n",
    "plt.xlabel('Days')\n",
    "plt.ylabel('# patients')"
   ]
  },
  {
   "cell_type": "markdown",
   "metadata": {},
   "source": [
    "### Cox Regression\n",
    "\n",
    "\"Survival Analysis is used to estimate the lifespan of a particular population under study. It is also called ‘Time to Event’ Analysis as the goal is to estimate the time for an individual or a group of individuals to experience an event of interest. This time estimate is the duration between birth and death events. Survival Analysis was originally developed and used by Medical Researchers and Data Analysts to measure the lifetimes of a certain population.\""
   ]
  },
  {
   "cell_type": "code",
   "execution_count": 43,
   "metadata": {},
   "outputs": [
    {
     "data": {
      "text/plain": [
       "Index(['subject_id', 'hadm_id', 'icustay_id', 'gender', 'dod', 'admittime',\n",
       "       'dischtime', 'insurance', 'los_hospital', 'age', 'ethnicity',\n",
       "       'ethnicity_grouped', 'admission_type', 'hospital_expire_flag',\n",
       "       'hospstay_seq', 'first_hosp_stay', 'intime', 'outtime', 'los_icu',\n",
       "       'icustay_seq', 'first_icu_stay', 'row_id', 'seq_num', 'icd9_code'],\n",
       "      dtype='object')"
      ]
     },
     "execution_count": 43,
     "metadata": {},
     "output_type": "execute_result"
    }
   ],
   "source": [
    "cohort_high_df.columns"
   ]
  },
  {
   "cell_type": "code",
   "execution_count": null,
   "metadata": {},
   "outputs": [],
   "source": [
    "from lifelines import CoxPHFitter\n",
    "\n",
    "# event status: hospital_expire_flag (died in hospital or not)\n",
    "# duration: los_icu (ICU lenght of stay in days)\n",
    "\n",
    "cph = CoxPHFitter()\n",
    "cph.fit(cohort_high_df, duration_col='los_icu', event_col='hospital_expire_flag')\n",
    "\n",
    "# access the results using cph.summary\n",
    "cph.print_summary()"
   ]
  }
 ],
 "metadata": {
  "kernelspec": {
   "display_name": "Python 3",
   "language": "python",
   "name": "python3"
  },
  "language_info": {
   "codemirror_mode": {
    "name": "ipython",
    "version": 3
   },
   "file_extension": ".py",
   "mimetype": "text/x-python",
   "name": "python",
   "nbconvert_exporter": "python",
   "pygments_lexer": "ipython3",
   "version": "3.7.3"
  }
 },
 "nbformat": 4,
 "nbformat_minor": 2
}
